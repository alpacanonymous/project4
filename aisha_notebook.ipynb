{
  "nbformat": 4,
  "nbformat_minor": 0,
  "metadata": {
    "colab": {
      "name": "aisha-notebook.ipynb",
      "provenance": []
    },
    "kernelspec": {
      "name": "python3",
      "display_name": "Python 3"
    },
    "language_info": {
      "name": "python"
    }
  },
  "cells": [
    {
      "cell_type": "code",
      "execution_count": 2,
      "metadata": {
        "id": "IoRk7i_z5f_m"
      },
      "outputs": [],
      "source": [
        "import pandas as pd\n",
        "import pandas as pd\n",
        "import cv2\n",
        "from skimage.transform import resize\n",
        "import numpy as np\n",
        "import os\n",
        "from scipy import ndimage, misc\n",
        "from skimage import color\n",
        "from skimage import io\n",
        "from os import listdir\n",
        "from sklearn.model_selection import train_test_split\n",
        "import tensorflow as tf\n",
        "from keras import models\n",
        "from keras import layers\n",
        "from keras import optimizers"
      ]
    },
    {
      "cell_type": "code",
      "source": [
        "from google.colab import drive\n",
        "drive.mount('/content/drive')"
      ],
      "metadata": {
        "colab": {
          "base_uri": "https://localhost:8080/"
        },
        "id": "-0U-u8LP90-E",
        "outputId": "8fa228a5-6b34-4094-b7d1-8dca7c14beb1"
      },
      "execution_count": 4,
      "outputs": [
        {
          "output_type": "stream",
          "name": "stdout",
          "text": [
            "Drive already mounted at /content/drive; to attempt to forcibly remount, call drive.mount(\"/content/drive\", force_remount=True).\n"
          ]
        }
      ]
    },
    {
      "cell_type": "code",
      "source": [
        "df = pd.read_csv('/content/train.csv')"
      ],
      "metadata": {
        "id": "tLqDSdK06phI"
      },
      "execution_count": 3,
      "outputs": []
    },
    {
      "cell_type": "code",
      "source": [
        "df.head()"
      ],
      "metadata": {
        "colab": {
          "base_uri": "https://localhost:8080/",
          "height": 273
        },
        "id": "mxkFCXv-6tg1",
        "outputId": "2a2f502d-2d84-46cd-ae84-85b072ed3444"
      },
      "execution_count": 4,
      "outputs": [
        {
          "output_type": "execute_result",
          "data": {
            "text/html": [
              "\n",
              "  <div id=\"df-21e50f63-c187-4c99-bd1d-98b6827db175\">\n",
              "    <div class=\"colab-df-container\">\n",
              "      <div>\n",
              "<style scoped>\n",
              "    .dataframe tbody tr th:only-of-type {\n",
              "        vertical-align: middle;\n",
              "    }\n",
              "\n",
              "    .dataframe tbody tr th {\n",
              "        vertical-align: top;\n",
              "    }\n",
              "\n",
              "    .dataframe thead th {\n",
              "        text-align: right;\n",
              "    }\n",
              "</style>\n",
              "<table border=\"1\" class=\"dataframe\">\n",
              "  <thead>\n",
              "    <tr style=\"text-align: right;\">\n",
              "      <th></th>\n",
              "      <th>Id</th>\n",
              "      <th>Subject Focus</th>\n",
              "      <th>Eyes</th>\n",
              "      <th>Face</th>\n",
              "      <th>Near</th>\n",
              "      <th>Action</th>\n",
              "      <th>Accessory</th>\n",
              "      <th>Group</th>\n",
              "      <th>Collage</th>\n",
              "      <th>Human</th>\n",
              "      <th>Occlusion</th>\n",
              "      <th>Info</th>\n",
              "      <th>Blur</th>\n",
              "      <th>Pawpularity</th>\n",
              "    </tr>\n",
              "  </thead>\n",
              "  <tbody>\n",
              "    <tr>\n",
              "      <th>0</th>\n",
              "      <td>0007de18844b0dbbb5e1f607da0606e0</td>\n",
              "      <td>0</td>\n",
              "      <td>1</td>\n",
              "      <td>1</td>\n",
              "      <td>1</td>\n",
              "      <td>0</td>\n",
              "      <td>0</td>\n",
              "      <td>1</td>\n",
              "      <td>0</td>\n",
              "      <td>0</td>\n",
              "      <td>0</td>\n",
              "      <td>0</td>\n",
              "      <td>0</td>\n",
              "      <td>63</td>\n",
              "    </tr>\n",
              "    <tr>\n",
              "      <th>1</th>\n",
              "      <td>0009c66b9439883ba2750fb825e1d7db</td>\n",
              "      <td>0</td>\n",
              "      <td>1</td>\n",
              "      <td>1</td>\n",
              "      <td>0</td>\n",
              "      <td>0</td>\n",
              "      <td>0</td>\n",
              "      <td>0</td>\n",
              "      <td>0</td>\n",
              "      <td>0</td>\n",
              "      <td>0</td>\n",
              "      <td>0</td>\n",
              "      <td>0</td>\n",
              "      <td>42</td>\n",
              "    </tr>\n",
              "    <tr>\n",
              "      <th>2</th>\n",
              "      <td>0013fd999caf9a3efe1352ca1b0d937e</td>\n",
              "      <td>0</td>\n",
              "      <td>1</td>\n",
              "      <td>1</td>\n",
              "      <td>1</td>\n",
              "      <td>0</td>\n",
              "      <td>0</td>\n",
              "      <td>0</td>\n",
              "      <td>0</td>\n",
              "      <td>1</td>\n",
              "      <td>1</td>\n",
              "      <td>0</td>\n",
              "      <td>0</td>\n",
              "      <td>28</td>\n",
              "    </tr>\n",
              "    <tr>\n",
              "      <th>3</th>\n",
              "      <td>0018df346ac9c1d8413cfcc888ca8246</td>\n",
              "      <td>0</td>\n",
              "      <td>1</td>\n",
              "      <td>1</td>\n",
              "      <td>1</td>\n",
              "      <td>0</td>\n",
              "      <td>0</td>\n",
              "      <td>0</td>\n",
              "      <td>0</td>\n",
              "      <td>0</td>\n",
              "      <td>0</td>\n",
              "      <td>0</td>\n",
              "      <td>0</td>\n",
              "      <td>15</td>\n",
              "    </tr>\n",
              "    <tr>\n",
              "      <th>4</th>\n",
              "      <td>001dc955e10590d3ca4673f034feeef2</td>\n",
              "      <td>0</td>\n",
              "      <td>0</td>\n",
              "      <td>0</td>\n",
              "      <td>1</td>\n",
              "      <td>0</td>\n",
              "      <td>0</td>\n",
              "      <td>1</td>\n",
              "      <td>0</td>\n",
              "      <td>0</td>\n",
              "      <td>0</td>\n",
              "      <td>0</td>\n",
              "      <td>0</td>\n",
              "      <td>72</td>\n",
              "    </tr>\n",
              "  </tbody>\n",
              "</table>\n",
              "</div>\n",
              "      <button class=\"colab-df-convert\" onclick=\"convertToInteractive('df-21e50f63-c187-4c99-bd1d-98b6827db175')\"\n",
              "              title=\"Convert this dataframe to an interactive table.\"\n",
              "              style=\"display:none;\">\n",
              "        \n",
              "  <svg xmlns=\"http://www.w3.org/2000/svg\" height=\"24px\"viewBox=\"0 0 24 24\"\n",
              "       width=\"24px\">\n",
              "    <path d=\"M0 0h24v24H0V0z\" fill=\"none\"/>\n",
              "    <path d=\"M18.56 5.44l.94 2.06.94-2.06 2.06-.94-2.06-.94-.94-2.06-.94 2.06-2.06.94zm-11 1L8.5 8.5l.94-2.06 2.06-.94-2.06-.94L8.5 2.5l-.94 2.06-2.06.94zm10 10l.94 2.06.94-2.06 2.06-.94-2.06-.94-.94-2.06-.94 2.06-2.06.94z\"/><path d=\"M17.41 7.96l-1.37-1.37c-.4-.4-.92-.59-1.43-.59-.52 0-1.04.2-1.43.59L10.3 9.45l-7.72 7.72c-.78.78-.78 2.05 0 2.83L4 21.41c.39.39.9.59 1.41.59.51 0 1.02-.2 1.41-.59l7.78-7.78 2.81-2.81c.8-.78.8-2.07 0-2.86zM5.41 20L4 18.59l7.72-7.72 1.47 1.35L5.41 20z\"/>\n",
              "  </svg>\n",
              "      </button>\n",
              "      \n",
              "  <style>\n",
              "    .colab-df-container {\n",
              "      display:flex;\n",
              "      flex-wrap:wrap;\n",
              "      gap: 12px;\n",
              "    }\n",
              "\n",
              "    .colab-df-convert {\n",
              "      background-color: #E8F0FE;\n",
              "      border: none;\n",
              "      border-radius: 50%;\n",
              "      cursor: pointer;\n",
              "      display: none;\n",
              "      fill: #1967D2;\n",
              "      height: 32px;\n",
              "      padding: 0 0 0 0;\n",
              "      width: 32px;\n",
              "    }\n",
              "\n",
              "    .colab-df-convert:hover {\n",
              "      background-color: #E2EBFA;\n",
              "      box-shadow: 0px 1px 2px rgba(60, 64, 67, 0.3), 0px 1px 3px 1px rgba(60, 64, 67, 0.15);\n",
              "      fill: #174EA6;\n",
              "    }\n",
              "\n",
              "    [theme=dark] .colab-df-convert {\n",
              "      background-color: #3B4455;\n",
              "      fill: #D2E3FC;\n",
              "    }\n",
              "\n",
              "    [theme=dark] .colab-df-convert:hover {\n",
              "      background-color: #434B5C;\n",
              "      box-shadow: 0px 1px 3px 1px rgba(0, 0, 0, 0.15);\n",
              "      filter: drop-shadow(0px 1px 2px rgba(0, 0, 0, 0.3));\n",
              "      fill: #FFFFFF;\n",
              "    }\n",
              "  </style>\n",
              "\n",
              "      <script>\n",
              "        const buttonEl =\n",
              "          document.querySelector('#df-21e50f63-c187-4c99-bd1d-98b6827db175 button.colab-df-convert');\n",
              "        buttonEl.style.display =\n",
              "          google.colab.kernel.accessAllowed ? 'block' : 'none';\n",
              "\n",
              "        async function convertToInteractive(key) {\n",
              "          const element = document.querySelector('#df-21e50f63-c187-4c99-bd1d-98b6827db175');\n",
              "          const dataTable =\n",
              "            await google.colab.kernel.invokeFunction('convertToInteractive',\n",
              "                                                     [key], {});\n",
              "          if (!dataTable) return;\n",
              "\n",
              "          const docLinkHtml = 'Like what you see? Visit the ' +\n",
              "            '<a target=\"_blank\" href=https://colab.research.google.com/notebooks/data_table.ipynb>data table notebook</a>'\n",
              "            + ' to learn more about interactive tables.';\n",
              "          element.innerHTML = '';\n",
              "          dataTable['output_type'] = 'display_data';\n",
              "          await google.colab.output.renderOutput(dataTable, element);\n",
              "          const docLink = document.createElement('div');\n",
              "          docLink.innerHTML = docLinkHtml;\n",
              "          element.appendChild(docLink);\n",
              "        }\n",
              "      </script>\n",
              "    </div>\n",
              "  </div>\n",
              "  "
            ],
            "text/plain": [
              "                                 Id  Subject Focus  ...  Blur  Pawpularity\n",
              "0  0007de18844b0dbbb5e1f607da0606e0              0  ...     0           63\n",
              "1  0009c66b9439883ba2750fb825e1d7db              0  ...     0           42\n",
              "2  0013fd999caf9a3efe1352ca1b0d937e              0  ...     0           28\n",
              "3  0018df346ac9c1d8413cfcc888ca8246              0  ...     0           15\n",
              "4  001dc955e10590d3ca4673f034feeef2              0  ...     0           72\n",
              "\n",
              "[5 rows x 14 columns]"
            ]
          },
          "metadata": {},
          "execution_count": 4
        }
      ]
    },
    {
      "cell_type": "code",
      "source": [
        "all_image=[]\n",
        "count=0\n",
        "for index in range(df.shape[0]):\n",
        "    id=df.loc[index,'Id']\n",
        "    path='/content/drive/MyDrive/train/'+str(id)+'.jpg'\n",
        "    im_array=cv2.imread(path)\n",
        "    im_array=resize(im_array,(256,256),anti_aliasing=True)\n",
        "    all_image.append(im_array)\n",
        "    \n",
        "    count+=1\n",
        "    progress=(count/len(df['Id']))*100\n",
        "    print('progress =',round(progress,2), '%',end='\\r')"
      ],
      "metadata": {
        "colab": {
          "base_uri": "https://localhost:8080/"
        },
        "id": "9RInCZ2kbvoT",
        "outputId": "add700e0-5300-4bd8-f993-fe10e84bfb73"
      },
      "execution_count": null,
      "outputs": [
        {
          "output_type": "stream",
          "name": "stdout",
          "text": [
            ""
          ]
        }
      ]
    },
    {
      "cell_type": "code",
      "source": [
        "import pickle\n",
        "\n",
        "with open ('/content/images', 'rb') as fp:\n",
        "    all_image = pickle.load(fp)"
      ],
      "metadata": {
        "id": "CFGEcVHx7sTI"
      },
      "execution_count": 5,
      "outputs": []
    },
    {
      "cell_type": "code",
      "source": [
        "all_image = all_image[:len(all_image)-6]"
      ],
      "metadata": {
        "id": "JVhdlOsurF6o"
      },
      "execution_count": 24,
      "outputs": []
    },
    {
      "cell_type": "code",
      "source": [
        "all_image[1]"
      ],
      "metadata": {
        "colab": {
          "base_uri": "https://localhost:8080/"
        },
        "id": "463J8hqgsQaq",
        "outputId": "47f5b2f7-f31d-4da5-ab1d-c7814518429a"
      },
      "execution_count": 6,
      "outputs": [
        {
          "output_type": "execute_result",
          "data": {
            "text/plain": [
              "array([[[0.58615196, 0.55870098, 0.57046569],\n",
              "        [0.56078431, 0.53333333, 0.54509804],\n",
              "        [0.54509804, 0.51764706, 0.52941176],\n",
              "        ...,\n",
              "        [0.62352941, 0.68440564, 0.74580365],\n",
              "        [0.64004959, 0.70279469, 0.76835172],\n",
              "        [0.62278167, 0.68552677, 0.76678922]],\n",
              "\n",
              "       [[0.58823529, 0.56078431, 0.57254902],\n",
              "        [0.57022059, 0.54276961, 0.55586225],\n",
              "        [0.55686275, 0.52941176, 0.54194527],\n",
              "        ...,\n",
              "        [0.60952819, 0.68872836, 0.74901961],\n",
              "        [0.62749215, 0.70523897, 0.76798407],\n",
              "        [0.62098652, 0.69604779, 0.77447917]],\n",
              "\n",
              "       [[0.57797181, 0.55294118, 0.57104779],\n",
              "        [0.56923732, 0.54509804, 0.56176758],\n",
              "        [0.55919596, 0.53174498, 0.54509804],\n",
              "        ...,\n",
              "        [0.58581495, 0.67601103, 0.74117647],\n",
              "        [0.58581495, 0.67833946, 0.74206782],\n",
              "        [0.57104779, 0.66596297, 0.73333333]],\n",
              "\n",
              "       ...,\n",
              "\n",
              "       [[0.11973039, 0.18397672, 0.33020929],\n",
              "        [0.12941176, 0.19607843, 0.34117647],\n",
              "        [0.10330882, 0.18023897, 0.32450502],\n",
              "        ...,\n",
              "        [0.38823529, 0.47977941, 0.58039216],\n",
              "        [0.39215686, 0.48688438, 0.58431373],\n",
              "        [0.38118968, 0.50196078, 0.58039216]],\n",
              "\n",
              "       [[0.11764706, 0.19384191, 0.33893995],\n",
              "        [0.10971201, 0.18431373, 0.32941176],\n",
              "        [0.10980392, 0.17254902, 0.31764706],\n",
              "        ...,\n",
              "        [0.38823529, 0.48293218, 0.58431373],\n",
              "        [0.39439338, 0.49178922, 0.59215686],\n",
              "        [0.38431373, 0.50588235, 0.58431373]],\n",
              "\n",
              "       [[0.09411765, 0.19607843, 0.34117647],\n",
              "        [0.09617034, 0.18507295, 0.3310049 ],\n",
              "        [0.10196078, 0.17512351, 0.31764706],\n",
              "        ...,\n",
              "        [0.3771762 , 0.4908385 , 0.58823529],\n",
              "        [0.38431373, 0.49803922, 0.59215686],\n",
              "        [0.38431373, 0.50588235, 0.58431373]]])"
            ]
          },
          "metadata": {},
          "execution_count": 6
        }
      ]
    },
    {
      "cell_type": "code",
      "source": [
        "grayscaled = []\n",
        "\n",
        "for image in all_image:\n",
        "  image = color.rgb2gray(image)\n",
        "  grayscaled.append(image)\n"
      ],
      "metadata": {
        "id": "YfSSqSY0_mrt"
      },
      "execution_count": 25,
      "outputs": []
    },
    {
      "cell_type": "code",
      "source": [
        "len(grayscaled)"
      ],
      "metadata": {
        "colab": {
          "base_uri": "https://localhost:8080/"
        },
        "id": "wIM7EapsEu56",
        "outputId": "70e81b31-c622-4a9f-8a5e-45efa27175a2"
      },
      "execution_count": 26,
      "outputs": [
        {
          "output_type": "execute_result",
          "data": {
            "text/plain": [
              "9912"
            ]
          },
          "metadata": {},
          "execution_count": 26
        }
      ]
    },
    {
      "cell_type": "code",
      "source": [
        "grayscaled[0][0]"
      ],
      "metadata": {
        "colab": {
          "base_uri": "https://localhost:8080/"
        },
        "id": "n9OgLoJeFXZj",
        "outputId": "7d60fbc5-1258-4f9b-bc5c-bd319d5e679e"
      },
      "execution_count": 27,
      "outputs": [
        {
          "output_type": "execute_result",
          "data": {
            "text/plain": [
              "array([0.63447441, 0.62953162, 0.63835072, 0.64172327, 0.65187526,\n",
              "       0.67093919, 0.6752877 , 0.68869778, 0.69735168, 0.70307882,\n",
              "       0.7064737 , 0.71767007, 0.71951289, 0.72811939, 0.73034823,\n",
              "       0.72812226, 0.73311709, 0.73610713, 0.74320127, 0.74525616,\n",
              "       0.74106382, 0.73743878, 0.74001907, 0.74176732, 0.75105257,\n",
              "       0.74643335, 0.72661496, 0.73110333, 0.73650372, 0.74270496,\n",
              "       0.73488719, 0.74610713, 0.74797636, 0.73991462, 0.73722609,\n",
              "       0.73730702, 0.73063428, 0.74213836, 0.75259481, 0.73786109,\n",
              "       0.73507949, 0.74102801, 0.74138643, 0.73677402, 0.72674835,\n",
              "       0.72207261, 0.71648359, 0.70133923, 0.703146  , 0.70292732,\n",
              "       0.70309636, 0.71182111, 0.7110463 , 0.7106173 , 0.71367926,\n",
              "       0.70874041, 0.70182146, 0.70752938, 0.7156806 , 0.70067203,\n",
              "       0.68542085, 0.67591067, 0.68793   , 0.68816928])"
            ]
          },
          "metadata": {},
          "execution_count": 27
        }
      ]
    },
    {
      "cell_type": "code",
      "source": [
        "io.imshow(all_image[800])"
      ],
      "metadata": {
        "colab": {
          "base_uri": "https://localhost:8080/",
          "height": 314
        },
        "id": "83EV_818GMww",
        "outputId": "0656bf41-fb95-441a-f998-02b99a62664f"
      },
      "execution_count": 28,
      "outputs": [
        {
          "output_type": "execute_result",
          "data": {
            "text/plain": [
              "<matplotlib.image.AxesImage at 0x7f6227360090>"
            ]
          },
          "metadata": {},
          "execution_count": 28
        },
        {
          "output_type": "display_data",
          "data": {
            "image/png": "[encoded data removed]",
            "text/plain": [
              "<Figure size 432x288 with 1 Axes>"
            ]
          },
          "metadata": {
            "needs_background": "light"
          }
        }
      ]
    },
    {
      "cell_type": "code",
      "source": [
        "io.imshow(grayscaled[0])"
      ],
      "metadata": {
        "colab": {
          "base_uri": "https://localhost:8080/",
          "height": 314
        },
        "id": "FaURzPdUsEfJ",
        "outputId": "6647e67a-1fed-4248-fa01-1db52795ab1c"
      },
      "execution_count": 29,
      "outputs": [
        {
          "output_type": "execute_result",
          "data": {
            "text/plain": [
              "<matplotlib.image.AxesImage at 0x7f62272c26d0>"
            ]
          },
          "metadata": {},
          "execution_count": 29
        },
        {
          "output_type": "display_data",
          "data": {
            "image/png": "[encoded data removed]",
            "text/plain": [
              "<Figure size 432x288 with 1 Axes>"
            ]
          },
          "metadata": {
            "needs_background": "light"
          }
        }
      ]
    },
    {
      "cell_type": "code",
      "source": [
        "type(grayscaled)"
      ],
      "metadata": {
        "colab": {
          "base_uri": "https://localhost:8080/"
        },
        "id": "fDOJQRgSH8wJ",
        "outputId": "86dbbbc5-861c-41c9-c7a1-f0e22dc877b9"
      },
      "execution_count": 30,
      "outputs": [
        {
          "output_type": "execute_result",
          "data": {
            "text/plain": [
              "list"
            ]
          },
          "metadata": {},
          "execution_count": 30
        }
      ]
    },
    {
      "cell_type": "code",
      "source": [
        "blurred = []\n",
        "for image in grayscaled:\n",
        "    \n",
        "      image = ndimage.gaussian_filter(image, sigma= 1)\n",
        "      blurred.append(image)"
      ],
      "metadata": {
        "id": "OcwQDoP2HT-m"
      },
      "execution_count": 31,
      "outputs": []
    },
    {
      "cell_type": "code",
      "source": [
        "blurred[0][0][0]"
      ],
      "metadata": {
        "colab": {
          "base_uri": "https://localhost:8080/"
        },
        "id": "NCzA98PxFxJm",
        "outputId": "f7819d5b-0a13-49f3-f220-d521cafb75ed"
      },
      "execution_count": 32,
      "outputs": [
        {
          "output_type": "execute_result",
          "data": {
            "text/plain": [
              "0.671519855536712"
            ]
          },
          "metadata": {},
          "execution_count": 32
        }
      ]
    },
    {
      "cell_type": "code",
      "source": [
        "io.imshow(blurred[0])"
      ],
      "metadata": {
        "colab": {
          "base_uri": "https://localhost:8080/",
          "height": 314
        },
        "id": "uw6VHvd3F1sU",
        "outputId": "0944cbbf-32e8-4e13-e3d2-f38c8028c102"
      },
      "execution_count": 33,
      "outputs": [
        {
          "output_type": "execute_result",
          "data": {
            "text/plain": [
              "<matplotlib.image.AxesImage at 0x7f622723b190>"
            ]
          },
          "metadata": {},
          "execution_count": 33
        },
        {
          "output_type": "display_data",
          "data": {
            "image/png": "[encoded data removed]",
            "text/plain": [
              "<Figure size 432x288 with 1 Axes>"
            ]
          },
          "metadata": {
            "needs_background": "light"
          }
        }
      ]
    },
    {
      "cell_type": "code",
      "source": [
        "type(all_image)"
      ],
      "metadata": {
        "colab": {
          "base_uri": "https://localhost:8080/"
        },
        "id": "orQpy1ikFair",
        "outputId": "a066db5f-1833-473f-e781-ab4e5687cdfe"
      },
      "execution_count": 34,
      "outputs": [
        {
          "output_type": "execute_result",
          "data": {
            "text/plain": [
              "list"
            ]
          },
          "metadata": {},
          "execution_count": 34
        }
      ]
    },
    {
      "cell_type": "code",
      "source": [
        "io.imshow(image)"
      ],
      "metadata": {
        "colab": {
          "base_uri": "https://localhost:8080/",
          "height": 314
        },
        "id": "sricJ8UD9kzc",
        "outputId": "0a9f6d2c-57c4-489d-c74a-9548f58d1093"
      },
      "execution_count": 35,
      "outputs": [
        {
          "output_type": "execute_result",
          "data": {
            "text/plain": [
              "<matplotlib.image.AxesImage at 0x7f6227218a10>"
            ]
          },
          "metadata": {},
          "execution_count": 35
        },
        {
          "output_type": "display_data",
          "data": {
            "image/png": "[encoded data removed]",
            "text/plain": [
              "<Figure size 432x288 with 1 Axes>"
            ]
          },
          "metadata": {
            "needs_background": "light"
          }
        }
      ]
    },
    {
      "cell_type": "code",
      "source": [
        "flipped_horizontal = []\n",
        "for image in blurred:\n",
        "    \n",
        "      image1 = cv2.flip(image,0)\n",
        "      \n",
        "      flipped_horizontal.append(image1)"
      ],
      "metadata": {
        "id": "HDf7FYfl0-VD"
      },
      "execution_count": 36,
      "outputs": []
    },
    {
      "cell_type": "code",
      "source": [
        "io.imshow(flipped_horizontal[0])"
      ],
      "metadata": {
        "colab": {
          "base_uri": "https://localhost:8080/",
          "height": 314
        },
        "id": "TX3GbrpYsWS4",
        "outputId": "7a08f800-ad65-4cf5-b568-11242c8c0b0f"
      },
      "execution_count": 37,
      "outputs": [
        {
          "output_type": "execute_result",
          "data": {
            "text/plain": [
              "<matplotlib.image.AxesImage at 0x7f622764a310>"
            ]
          },
          "metadata": {},
          "execution_count": 37
        },
        {
          "output_type": "display_data",
          "data": {
            "image/png": "[encoded data removed]",
            "text/plain": [
              "<Figure size 432x288 with 1 Axes>"
            ]
          },
          "metadata": {
            "needs_background": "light"
          }
        }
      ]
    },
    {
      "cell_type": "code",
      "source": [
        "flipped_vertical = []\n",
        "for image in blurred:\n",
        "    \n",
        "      image2 = cv2.flip(image,1)\n",
        "      \n",
        "      flipped_vertical.append(image2)\n"
      ],
      "metadata": {
        "id": "Q-kMxtGh17t8"
      },
      "execution_count": 38,
      "outputs": []
    },
    {
      "cell_type": "code",
      "source": [
        "io.imshow(flipped_vertical[0])"
      ],
      "metadata": {
        "colab": {
          "base_uri": "https://localhost:8080/",
          "height": 314
        },
        "id": "SBMSr2zIssGy",
        "outputId": "c84a4e2b-0330-4ac6-d0ff-5c8bda1b23fd"
      },
      "execution_count": 39,
      "outputs": [
        {
          "output_type": "execute_result",
          "data": {
            "text/plain": [
              "<matplotlib.image.AxesImage at 0x7f622752dbd0>"
            ]
          },
          "metadata": {},
          "execution_count": 39
        },
        {
          "output_type": "display_data",
          "data": {
            "image/png": "[encoded data removed]",
            "text/plain": [
              "<Figure size 432x288 with 1 Axes>"
            ]
          },
          "metadata": {
            "needs_background": "light"
          }
        }
      ]
    },
    {
      "cell_type": "code",
      "source": [
        "y = df['Pawpularity']"
      ],
      "metadata": {
        "id": "m6bClr_jtCS_"
      },
      "execution_count": 40,
      "outputs": []
    },
    {
      "cell_type": "code",
      "source": [
        "X_grayscaled = (np.array(grayscaled))"
      ],
      "metadata": {
        "id": "1XiUC2K8umeg"
      },
      "execution_count": 41,
      "outputs": []
    },
    {
      "cell_type": "code",
      "source": [
        "X_train, X_test, y_train, y_test = train_test_split(X_grayscaled, y, random_state=42)"
      ],
      "metadata": {
        "id": "N5AxWeRyvL1m"
      },
      "execution_count": 42,
      "outputs": []
    },
    {
      "cell_type": "code",
      "source": [
        "ann = tf.keras.Sequential([\n",
        "        layers.Flatten(),\n",
        "        layers.Dense(3000, activation='relu'),\n",
        "        layers.Dense(1000, activation='relu'),\n",
        "        layers.Dense(10, activation='relu')\n",
        "      ])\n",
        "\n",
        "ann.compile(optimizer='adam',\n",
        "              loss=tf.keras.losses.MeanSquaredError(),\n",
        "              metrics=[tf.keras.metrics.RootMeanSquaredError()])\n",
        "\n",
        "ann.fit(X_train, y_train, epochs=5)"
      ],
      "metadata": {
        "colab": {
          "base_uri": "https://localhost:8080/"
        },
        "id": "BJ1C4br1vWUb",
        "outputId": "3288f0a9-ffb2-4302-f939-32c4b4051ea9"
      },
      "execution_count": 43,
      "outputs": [
        {
          "output_type": "stream",
          "name": "stdout",
          "text": [
            "Epoch 1/5\n",
            "233/233 [==============================] - 25s 103ms/step - loss: 552.7825 - root_mean_squared_error: 23.5113\n",
            "Epoch 2/5\n",
            "233/233 [==============================] - 24s 103ms/step - loss: 482.8612 - root_mean_squared_error: 21.9741\n",
            "Epoch 3/5\n",
            "233/233 [==============================] - 24s 105ms/step - loss: 474.2497 - root_mean_squared_error: 21.7773\n",
            "Epoch 4/5\n",
            "233/233 [==============================] - 24s 103ms/step - loss: 468.2529 - root_mean_squared_error: 21.6391\n",
            "Epoch 5/5\n",
            "233/233 [==============================] - 24s 104ms/step - loss: 455.9622 - root_mean_squared_error: 21.3533\n"
          ]
        },
        {
          "output_type": "execute_result",
          "data": {
            "text/plain": [
              "<keras.callbacks.History at 0x7f6222fc9b50>"
            ]
          },
          "metadata": {},
          "execution_count": 43
        }
      ]
    },
    {
      "cell_type": "code",
      "source": [
        ""
      ],
      "metadata": {
        "id": "SbPAbyfC1Qh7"
      },
      "execution_count": 33,
      "outputs": []
    },
    {
      "cell_type": "code",
      "source": [
        "io.imshow(all_image[-1])"
      ],
      "metadata": {
        "colab": {
          "base_uri": "https://localhost:8080/",
          "height": 314
        },
        "id": "WwymZv6713Rh",
        "outputId": "6f7f6e41-73b6-4c6a-daec-01e1460b2ce7"
      },
      "execution_count": 44,
      "outputs": [
        {
          "output_type": "execute_result",
          "data": {
            "text/plain": [
              "<matplotlib.image.AxesImage at 0x7f6222f22750>"
            ]
          },
          "metadata": {},
          "execution_count": 44
        },
        {
          "output_type": "display_data",
          "data": {
            "image/png": "[encoded data removed]",
            "text/plain": [
              "<Figure size 432x288 with 1 Axes>"
            ]
          },
          "metadata": {
            "needs_background": "light"
          }
        }
      ]
    },
    {
      "cell_type": "code",
      "source": [
        "X_blurred = (np.array(blurred))"
      ],
      "metadata": {
        "id": "i_8-ANlM2NWp"
      },
      "execution_count": 45,
      "outputs": []
    },
    {
      "cell_type": "code",
      "source": [
        "X_train, X_test, y_train, y_test = train_test_split(X_blurred, y, random_state=42)"
      ],
      "metadata": {
        "id": "qrq7Z4-211k-"
      },
      "execution_count": 46,
      "outputs": []
    },
    {
      "cell_type": "code",
      "source": [
        "ann = tf.keras.Sequential([\n",
        "        layers.Flatten(),\n",
        "        layers.Dense(3000, activation='relu'),\n",
        "        layers.Dense(1000, activation='relu'),\n",
        "        layers.Dense(10, activation='relu')\n",
        "      ])\n",
        "\n",
        "ann.compile(optimizer='adam',\n",
        "              loss=tf.keras.losses.MeanSquaredError(),\n",
        "              metrics=[tf.keras.metrics.RootMeanSquaredError()])\n",
        "\n",
        "ann.fit(X_train, y_train, epochs=5)"
      ],
      "metadata": {
        "colab": {
          "base_uri": "https://localhost:8080/"
        },
        "id": "64X4QBrs1z3G",
        "outputId": "063548f1-fb84-4959-982f-1d5013147a3b"
      },
      "execution_count": 47,
      "outputs": [
        {
          "output_type": "stream",
          "name": "stdout",
          "text": [
            "Epoch 1/5\n",
            "233/233 [==============================] - 23s 95ms/step - loss: 648.9331 - root_mean_squared_error: 25.4742\n",
            "Epoch 2/5\n",
            "233/233 [==============================] - 22s 94ms/step - loss: 620.7231 - root_mean_squared_error: 24.9143\n",
            "Epoch 3/5\n",
            "233/233 [==============================] - 22s 93ms/step - loss: 617.4868 - root_mean_squared_error: 24.8493\n",
            "Epoch 4/5\n",
            "233/233 [==============================] - 23s 98ms/step - loss: 611.0798 - root_mean_squared_error: 24.7200\n",
            "Epoch 5/5\n",
            "233/233 [==============================] - 23s 100ms/step - loss: 602.7205 - root_mean_squared_error: 24.5504\n"
          ]
        },
        {
          "output_type": "execute_result",
          "data": {
            "text/plain": [
              "<keras.callbacks.History at 0x7f6222f0eb10>"
            ]
          },
          "metadata": {},
          "execution_count": 47
        }
      ]
    },
    {
      "cell_type": "code",
      "source": [
        "X_flipped_horizontal = (np.array(flipped_horizontal))"
      ],
      "metadata": {
        "id": "mOM-4CCL1yfM"
      },
      "execution_count": 48,
      "outputs": []
    },
    {
      "cell_type": "code",
      "source": [
        "X_train, X_test, y_train, y_test = train_test_split(X_flipped_horizontal , y, random_state=42)"
      ],
      "metadata": {
        "id": "iotXjP7C1xCR"
      },
      "execution_count": 49,
      "outputs": []
    },
    {
      "cell_type": "code",
      "source": [
        "ann = tf.keras.Sequential([\n",
        "        layers.Flatten(),\n",
        "        layers.Dense(3000, activation='relu'),\n",
        "        layers.Dense(1000, activation='relu'),\n",
        "        layers.Dense(10, activation='relu')\n",
        "      ])\n",
        "\n",
        "ann.compile(optimizer='adam',\n",
        "              loss=tf.keras.losses.MeanSquaredError(),\n",
        "              metrics=[tf.keras.metrics.RootMeanSquaredError()])\n",
        "\n",
        "ann.fit(X_train, y_train, epochs=5)"
      ],
      "metadata": {
        "colab": {
          "base_uri": "https://localhost:8080/"
        },
        "id": "0yda_QVb1ve3",
        "outputId": "c01d0d36-0303-48e6-f22a-5dededc92646"
      },
      "execution_count": 50,
      "outputs": [
        {
          "output_type": "stream",
          "name": "stdout",
          "text": [
            "Epoch 1/5\n",
            "233/233 [==============================] - 23s 94ms/step - loss: 648.2887 - root_mean_squared_error: 25.4615\n",
            "Epoch 2/5\n",
            "233/233 [==============================] - 22s 94ms/step - loss: 615.4774 - root_mean_squared_error: 24.8088\n",
            "Epoch 3/5\n",
            "233/233 [==============================] - 22s 95ms/step - loss: 608.8359 - root_mean_squared_error: 24.6746\n",
            "Epoch 4/5\n",
            "233/233 [==============================] - 22s 93ms/step - loss: 607.0966 - root_mean_squared_error: 24.6393\n",
            "Epoch 5/5\n",
            "233/233 [==============================] - 22s 94ms/step - loss: 518.3639 - root_mean_squared_error: 22.7676\n"
          ]
        },
        {
          "output_type": "execute_result",
          "data": {
            "text/plain": [
              "<keras.callbacks.History at 0x7f6222dbacd0>"
            ]
          },
          "metadata": {},
          "execution_count": 50
        }
      ]
    },
    {
      "cell_type": "code",
      "source": [
        "X_flipped_vertical = (np.array(flipped_vertical))"
      ],
      "metadata": {
        "id": "XMXUjpTK1rtr"
      },
      "execution_count": 51,
      "outputs": []
    },
    {
      "cell_type": "code",
      "source": [
        "X_train, X_test, y_train, y_test = train_test_split(X_flipped_vertical, y, random_state=42)"
      ],
      "metadata": {
        "id": "xk8gjxxr1e4B"
      },
      "execution_count": 52,
      "outputs": []
    },
    {
      "cell_type": "code",
      "source": [
        "ann = tf.keras.Sequential([\n",
        "        layers.Flatten(),\n",
        "        layers.Dense(3000, activation='relu'),\n",
        "        layers.Dense(1000, activation='relu'),\n",
        "        layers.Dense(10, activation='relu')\n",
        "      ])\n",
        "\n",
        "ann.compile(optimizer='adam',\n",
        "              loss=tf.keras.losses.MeanSquaredError(),\n",
        "              metrics=[tf.keras.metrics.RootMeanSquaredError()])\n",
        "\n",
        "ann.fit(X_train, y_train, epochs=5)"
      ],
      "metadata": {
        "colab": {
          "base_uri": "https://localhost:8080/"
        },
        "id": "otGkZu_B1X_n",
        "outputId": "a92a4594-487f-4ead-fb0d-19a0b2ce1bad"
      },
      "execution_count": 53,
      "outputs": [
        {
          "output_type": "stream",
          "name": "stdout",
          "text": [
            "Epoch 1/5\n",
            "233/233 [==============================] - 26s 108ms/step - loss: 665.1384 - root_mean_squared_error: 25.7903\n",
            "Epoch 2/5\n",
            "233/233 [==============================] - 22s 94ms/step - loss: 617.7084 - root_mean_squared_error: 24.8538\n",
            "Epoch 3/5\n",
            "233/233 [==============================] - 22s 96ms/step - loss: 607.5427 - root_mean_squared_error: 24.6484\n",
            "Epoch 4/5\n",
            "233/233 [==============================] - 22s 94ms/step - loss: 607.3596 - root_mean_squared_error: 24.6447\n",
            "Epoch 5/5\n",
            "233/233 [==============================] - 22s 94ms/step - loss: 607.3506 - root_mean_squared_error: 24.6445\n"
          ]
        },
        {
          "output_type": "execute_result",
          "data": {
            "text/plain": [
              "<keras.callbacks.History at 0x7f6222cd6d90>"
            ]
          },
          "metadata": {},
          "execution_count": 53
        }
      ]
    }
  ]
}