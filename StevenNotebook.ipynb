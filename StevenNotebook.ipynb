{
 "cells": [
  {
   "cell_type": "code",
   "execution_count": 1,
   "metadata": {},
   "outputs": [],
   "source": [
    "#pip install opencv-python\n",
    "#pip install scikit-image"
   ]
  },
  {
   "cell_type": "code",
   "execution_count": 84,
   "metadata": {},
   "outputs": [],
   "source": [
    "import numpy as np\n",
    "import pandas as pd\n",
    "import gzip\n",
    "import cv2\n",
    "import tensorflow as tf\n",
    "import keras\n",
    "from skimage.transform import resize\n",
    "from sklearn.model_selection import train_test_split\n",
    "\n",
    "from keras.applications.inception_v3 import InceptionV3\n",
    "from keras.models import Sequential\n",
    "from tensorflow.keras import layers \n",
    "from keras.layers import Dense, GlobalAveragePooling2D\n",
    "from keras.initializers import RandomNormal\n",
    "from keras.optimizers import SGD\n",
    "\n",
    "import matplotlib.pyplot as plt\n",
    "import seaborn as sns"
   ]
  },
  {
   "cell_type": "code",
   "execution_count": 3,
   "metadata": {},
   "outputs": [],
   "source": [
    "df = pd.read_csv(\"data/train.csv\")"
   ]
  },
  {
   "cell_type": "code",
   "execution_count": 4,
   "metadata": {},
   "outputs": [
    {
     "data": {
      "text/html": [
       "<div>\n",
       "<style scoped>\n",
       "    .dataframe tbody tr th:only-of-type {\n",
       "        vertical-align: middle;\n",
       "    }\n",
       "\n",
       "    .dataframe tbody tr th {\n",
       "        vertical-align: top;\n",
       "    }\n",
       "\n",
       "    .dataframe thead th {\n",
       "        text-align: right;\n",
       "    }\n",
       "</style>\n",
       "<table border=\"1\" class=\"dataframe\">\n",
       "  <thead>\n",
       "    <tr style=\"text-align: right;\">\n",
       "      <th></th>\n",
       "      <th>Id</th>\n",
       "      <th>Subject Focus</th>\n",
       "      <th>Eyes</th>\n",
       "      <th>Face</th>\n",
       "      <th>Near</th>\n",
       "      <th>Action</th>\n",
       "      <th>Accessory</th>\n",
       "      <th>Group</th>\n",
       "      <th>Collage</th>\n",
       "      <th>Human</th>\n",
       "      <th>Occlusion</th>\n",
       "      <th>Info</th>\n",
       "      <th>Blur</th>\n",
       "      <th>Pawpularity</th>\n",
       "    </tr>\n",
       "  </thead>\n",
       "  <tbody>\n",
       "    <tr>\n",
       "      <th>0</th>\n",
       "      <td>0007de18844b0dbbb5e1f607da0606e0</td>\n",
       "      <td>0</td>\n",
       "      <td>1</td>\n",
       "      <td>1</td>\n",
       "      <td>1</td>\n",
       "      <td>0</td>\n",
       "      <td>0</td>\n",
       "      <td>1</td>\n",
       "      <td>0</td>\n",
       "      <td>0</td>\n",
       "      <td>0</td>\n",
       "      <td>0</td>\n",
       "      <td>0</td>\n",
       "      <td>63</td>\n",
       "    </tr>\n",
       "    <tr>\n",
       "      <th>1</th>\n",
       "      <td>0009c66b9439883ba2750fb825e1d7db</td>\n",
       "      <td>0</td>\n",
       "      <td>1</td>\n",
       "      <td>1</td>\n",
       "      <td>0</td>\n",
       "      <td>0</td>\n",
       "      <td>0</td>\n",
       "      <td>0</td>\n",
       "      <td>0</td>\n",
       "      <td>0</td>\n",
       "      <td>0</td>\n",
       "      <td>0</td>\n",
       "      <td>0</td>\n",
       "      <td>42</td>\n",
       "    </tr>\n",
       "    <tr>\n",
       "      <th>2</th>\n",
       "      <td>0013fd999caf9a3efe1352ca1b0d937e</td>\n",
       "      <td>0</td>\n",
       "      <td>1</td>\n",
       "      <td>1</td>\n",
       "      <td>1</td>\n",
       "      <td>0</td>\n",
       "      <td>0</td>\n",
       "      <td>0</td>\n",
       "      <td>0</td>\n",
       "      <td>1</td>\n",
       "      <td>1</td>\n",
       "      <td>0</td>\n",
       "      <td>0</td>\n",
       "      <td>28</td>\n",
       "    </tr>\n",
       "    <tr>\n",
       "      <th>3</th>\n",
       "      <td>0018df346ac9c1d8413cfcc888ca8246</td>\n",
       "      <td>0</td>\n",
       "      <td>1</td>\n",
       "      <td>1</td>\n",
       "      <td>1</td>\n",
       "      <td>0</td>\n",
       "      <td>0</td>\n",
       "      <td>0</td>\n",
       "      <td>0</td>\n",
       "      <td>0</td>\n",
       "      <td>0</td>\n",
       "      <td>0</td>\n",
       "      <td>0</td>\n",
       "      <td>15</td>\n",
       "    </tr>\n",
       "    <tr>\n",
       "      <th>4</th>\n",
       "      <td>001dc955e10590d3ca4673f034feeef2</td>\n",
       "      <td>0</td>\n",
       "      <td>0</td>\n",
       "      <td>0</td>\n",
       "      <td>1</td>\n",
       "      <td>0</td>\n",
       "      <td>0</td>\n",
       "      <td>1</td>\n",
       "      <td>0</td>\n",
       "      <td>0</td>\n",
       "      <td>0</td>\n",
       "      <td>0</td>\n",
       "      <td>0</td>\n",
       "      <td>72</td>\n",
       "    </tr>\n",
       "  </tbody>\n",
       "</table>\n",
       "</div>"
      ],
      "text/plain": [
       "                                 Id  Subject Focus  Eyes  Face  Near  Action  \\\n",
       "0  0007de18844b0dbbb5e1f607da0606e0              0     1     1     1       0   \n",
       "1  0009c66b9439883ba2750fb825e1d7db              0     1     1     0       0   \n",
       "2  0013fd999caf9a3efe1352ca1b0d937e              0     1     1     1       0   \n",
       "3  0018df346ac9c1d8413cfcc888ca8246              0     1     1     1       0   \n",
       "4  001dc955e10590d3ca4673f034feeef2              0     0     0     1       0   \n",
       "\n",
       "   Accessory  Group  Collage  Human  Occlusion  Info  Blur  Pawpularity  \n",
       "0          0      1        0      0          0     0     0           63  \n",
       "1          0      0        0      0          0     0     0           42  \n",
       "2          0      0        0      1          1     0     0           28  \n",
       "3          0      0        0      0          0     0     0           15  \n",
       "4          0      1        0      0          0     0     0           72  "
      ]
     },
     "execution_count": 4,
     "metadata": {},
     "output_type": "execute_result"
    }
   ],
   "source": [
    "df.head()"
   ]
  },
  {
   "cell_type": "code",
   "execution_count": 5,
   "metadata": {},
   "outputs": [
    {
     "name": "stdout",
     "output_type": "stream",
     "text": [
      "<class 'pandas.core.frame.DataFrame'>\n",
      "RangeIndex: 9912 entries, 0 to 9911\n",
      "Data columns (total 14 columns):\n",
      " #   Column         Non-Null Count  Dtype \n",
      "---  ------         --------------  ----- \n",
      " 0   Id             9912 non-null   object\n",
      " 1   Subject Focus  9912 non-null   int64 \n",
      " 2   Eyes           9912 non-null   int64 \n",
      " 3   Face           9912 non-null   int64 \n",
      " 4   Near           9912 non-null   int64 \n",
      " 5   Action         9912 non-null   int64 \n",
      " 6   Accessory      9912 non-null   int64 \n",
      " 7   Group          9912 non-null   int64 \n",
      " 8   Collage        9912 non-null   int64 \n",
      " 9   Human          9912 non-null   int64 \n",
      " 10  Occlusion      9912 non-null   int64 \n",
      " 11  Info           9912 non-null   int64 \n",
      " 12  Blur           9912 non-null   int64 \n",
      " 13  Pawpularity    9912 non-null   int64 \n",
      "dtypes: int64(13), object(1)\n",
      "memory usage: 1.1+ MB\n"
     ]
    }
   ],
   "source": [
    "df.info()"
   ]
  },
  {
   "cell_type": "code",
   "execution_count": 6,
   "metadata": {},
   "outputs": [
    {
     "data": {
      "text/html": [
       "<div>\n",
       "<style scoped>\n",
       "    .dataframe tbody tr th:only-of-type {\n",
       "        vertical-align: middle;\n",
       "    }\n",
       "\n",
       "    .dataframe tbody tr th {\n",
       "        vertical-align: top;\n",
       "    }\n",
       "\n",
       "    .dataframe thead th {\n",
       "        text-align: right;\n",
       "    }\n",
       "</style>\n",
       "<table border=\"1\" class=\"dataframe\">\n",
       "  <thead>\n",
       "    <tr style=\"text-align: right;\">\n",
       "      <th></th>\n",
       "      <th>Subject Focus</th>\n",
       "      <th>Eyes</th>\n",
       "      <th>Face</th>\n",
       "      <th>Near</th>\n",
       "      <th>Action</th>\n",
       "      <th>Accessory</th>\n",
       "      <th>Group</th>\n",
       "      <th>Collage</th>\n",
       "      <th>Human</th>\n",
       "      <th>Occlusion</th>\n",
       "      <th>Info</th>\n",
       "      <th>Blur</th>\n",
       "      <th>Pawpularity</th>\n",
       "    </tr>\n",
       "  </thead>\n",
       "  <tbody>\n",
       "    <tr>\n",
       "      <th>count</th>\n",
       "      <td>9912.000000</td>\n",
       "      <td>9912.000000</td>\n",
       "      <td>9912.000000</td>\n",
       "      <td>9912.000000</td>\n",
       "      <td>9912.000000</td>\n",
       "      <td>9912.000000</td>\n",
       "      <td>9912.000000</td>\n",
       "      <td>9912.000000</td>\n",
       "      <td>9912.000000</td>\n",
       "      <td>9912.000000</td>\n",
       "      <td>9912.000000</td>\n",
       "      <td>9912.000000</td>\n",
       "      <td>9912.000000</td>\n",
       "    </tr>\n",
       "    <tr>\n",
       "      <th>mean</th>\n",
       "      <td>0.027643</td>\n",
       "      <td>0.772599</td>\n",
       "      <td>0.903955</td>\n",
       "      <td>0.861582</td>\n",
       "      <td>0.009988</td>\n",
       "      <td>0.067797</td>\n",
       "      <td>0.129338</td>\n",
       "      <td>0.049637</td>\n",
       "      <td>0.166263</td>\n",
       "      <td>0.172014</td>\n",
       "      <td>0.061239</td>\n",
       "      <td>0.070420</td>\n",
       "      <td>38.039044</td>\n",
       "    </tr>\n",
       "    <tr>\n",
       "      <th>std</th>\n",
       "      <td>0.163957</td>\n",
       "      <td>0.419175</td>\n",
       "      <td>0.294668</td>\n",
       "      <td>0.345356</td>\n",
       "      <td>0.099444</td>\n",
       "      <td>0.251409</td>\n",
       "      <td>0.335591</td>\n",
       "      <td>0.217204</td>\n",
       "      <td>0.372335</td>\n",
       "      <td>0.377411</td>\n",
       "      <td>0.239780</td>\n",
       "      <td>0.255866</td>\n",
       "      <td>20.591990</td>\n",
       "    </tr>\n",
       "    <tr>\n",
       "      <th>min</th>\n",
       "      <td>0.000000</td>\n",
       "      <td>0.000000</td>\n",
       "      <td>0.000000</td>\n",
       "      <td>0.000000</td>\n",
       "      <td>0.000000</td>\n",
       "      <td>0.000000</td>\n",
       "      <td>0.000000</td>\n",
       "      <td>0.000000</td>\n",
       "      <td>0.000000</td>\n",
       "      <td>0.000000</td>\n",
       "      <td>0.000000</td>\n",
       "      <td>0.000000</td>\n",
       "      <td>1.000000</td>\n",
       "    </tr>\n",
       "    <tr>\n",
       "      <th>25%</th>\n",
       "      <td>0.000000</td>\n",
       "      <td>1.000000</td>\n",
       "      <td>1.000000</td>\n",
       "      <td>1.000000</td>\n",
       "      <td>0.000000</td>\n",
       "      <td>0.000000</td>\n",
       "      <td>0.000000</td>\n",
       "      <td>0.000000</td>\n",
       "      <td>0.000000</td>\n",
       "      <td>0.000000</td>\n",
       "      <td>0.000000</td>\n",
       "      <td>0.000000</td>\n",
       "      <td>25.000000</td>\n",
       "    </tr>\n",
       "    <tr>\n",
       "      <th>50%</th>\n",
       "      <td>0.000000</td>\n",
       "      <td>1.000000</td>\n",
       "      <td>1.000000</td>\n",
       "      <td>1.000000</td>\n",
       "      <td>0.000000</td>\n",
       "      <td>0.000000</td>\n",
       "      <td>0.000000</td>\n",
       "      <td>0.000000</td>\n",
       "      <td>0.000000</td>\n",
       "      <td>0.000000</td>\n",
       "      <td>0.000000</td>\n",
       "      <td>0.000000</td>\n",
       "      <td>33.000000</td>\n",
       "    </tr>\n",
       "    <tr>\n",
       "      <th>75%</th>\n",
       "      <td>0.000000</td>\n",
       "      <td>1.000000</td>\n",
       "      <td>1.000000</td>\n",
       "      <td>1.000000</td>\n",
       "      <td>0.000000</td>\n",
       "      <td>0.000000</td>\n",
       "      <td>0.000000</td>\n",
       "      <td>0.000000</td>\n",
       "      <td>0.000000</td>\n",
       "      <td>0.000000</td>\n",
       "      <td>0.000000</td>\n",
       "      <td>0.000000</td>\n",
       "      <td>46.000000</td>\n",
       "    </tr>\n",
       "    <tr>\n",
       "      <th>max</th>\n",
       "      <td>1.000000</td>\n",
       "      <td>1.000000</td>\n",
       "      <td>1.000000</td>\n",
       "      <td>1.000000</td>\n",
       "      <td>1.000000</td>\n",
       "      <td>1.000000</td>\n",
       "      <td>1.000000</td>\n",
       "      <td>1.000000</td>\n",
       "      <td>1.000000</td>\n",
       "      <td>1.000000</td>\n",
       "      <td>1.000000</td>\n",
       "      <td>1.000000</td>\n",
       "      <td>100.000000</td>\n",
       "    </tr>\n",
       "  </tbody>\n",
       "</table>\n",
       "</div>"
      ],
      "text/plain": [
       "       Subject Focus         Eyes         Face         Near       Action  \\\n",
       "count    9912.000000  9912.000000  9912.000000  9912.000000  9912.000000   \n",
       "mean        0.027643     0.772599     0.903955     0.861582     0.009988   \n",
       "std         0.163957     0.419175     0.294668     0.345356     0.099444   \n",
       "min         0.000000     0.000000     0.000000     0.000000     0.000000   \n",
       "25%         0.000000     1.000000     1.000000     1.000000     0.000000   \n",
       "50%         0.000000     1.000000     1.000000     1.000000     0.000000   \n",
       "75%         0.000000     1.000000     1.000000     1.000000     0.000000   \n",
       "max         1.000000     1.000000     1.000000     1.000000     1.000000   \n",
       "\n",
       "         Accessory        Group      Collage        Human    Occlusion  \\\n",
       "count  9912.000000  9912.000000  9912.000000  9912.000000  9912.000000   \n",
       "mean      0.067797     0.129338     0.049637     0.166263     0.172014   \n",
       "std       0.251409     0.335591     0.217204     0.372335     0.377411   \n",
       "min       0.000000     0.000000     0.000000     0.000000     0.000000   \n",
       "25%       0.000000     0.000000     0.000000     0.000000     0.000000   \n",
       "50%       0.000000     0.000000     0.000000     0.000000     0.000000   \n",
       "75%       0.000000     0.000000     0.000000     0.000000     0.000000   \n",
       "max       1.000000     1.000000     1.000000     1.000000     1.000000   \n",
       "\n",
       "              Info         Blur  Pawpularity  \n",
       "count  9912.000000  9912.000000  9912.000000  \n",
       "mean      0.061239     0.070420    38.039044  \n",
       "std       0.239780     0.255866    20.591990  \n",
       "min       0.000000     0.000000     1.000000  \n",
       "25%       0.000000     0.000000    25.000000  \n",
       "50%       0.000000     0.000000    33.000000  \n",
       "75%       0.000000     0.000000    46.000000  \n",
       "max       1.000000     1.000000   100.000000  "
      ]
     },
     "execution_count": 6,
     "metadata": {},
     "output_type": "execute_result"
    }
   ],
   "source": [
    "df.describe()"
   ]
  },
  {
   "cell_type": "code",
   "execution_count": 7,
   "metadata": {},
   "outputs": [
    {
     "name": "stdout",
     "output_type": "stream",
     "text": [
      "---- Id ----\n",
      "7473a90c0f7b640d3cb80f14b6a7bf9e    1\n",
      "9c5867e1c5968f27e99ca05f55135818    1\n",
      "e7bdb0f023795cbb2d1e237e49982298    1\n",
      "996a2123efa0aa6df96d14bb767e77bd    1\n",
      "68a0dc40fbab9a54b61adb3c8bd4edd5    1\n",
      "                                   ..\n",
      "934333e4225606d562bce5061d10dcb3    1\n",
      "a858b80acb6fbbd0b03e9bb7539234c4    1\n",
      "b18e40e5bdbdefc3c157b445735fab36    1\n",
      "94c823294d542af6e660423f0348bf31    1\n",
      "ac877d2e9d2be54570888dfd3e724103    1\n",
      "Name: Id, Length: 9912, dtype: int64\n",
      "\n",
      "\n",
      "---- Subject Focus ----\n",
      "0    9638\n",
      "1     274\n",
      "Name: Subject Focus, dtype: int64\n",
      "\n",
      "\n",
      "---- Eyes ----\n",
      "1    7658\n",
      "0    2254\n",
      "Name: Eyes, dtype: int64\n",
      "\n",
      "\n",
      "---- Face ----\n",
      "1    8960\n",
      "0     952\n",
      "Name: Face, dtype: int64\n",
      "\n",
      "\n",
      "---- Near ----\n",
      "1    8540\n",
      "0    1372\n",
      "Name: Near, dtype: int64\n",
      "\n",
      "\n",
      "---- Action ----\n",
      "0    9813\n",
      "1      99\n",
      "Name: Action, dtype: int64\n",
      "\n",
      "\n",
      "---- Accessory ----\n",
      "0    9240\n",
      "1     672\n",
      "Name: Accessory, dtype: int64\n",
      "\n",
      "\n",
      "---- Group ----\n",
      "0    8630\n",
      "1    1282\n",
      "Name: Group, dtype: int64\n",
      "\n",
      "\n",
      "---- Collage ----\n",
      "0    9420\n",
      "1     492\n",
      "Name: Collage, dtype: int64\n",
      "\n",
      "\n",
      "---- Human ----\n",
      "0    8264\n",
      "1    1648\n",
      "Name: Human, dtype: int64\n",
      "\n",
      "\n",
      "---- Occlusion ----\n",
      "0    8207\n",
      "1    1705\n",
      "Name: Occlusion, dtype: int64\n",
      "\n",
      "\n",
      "---- Info ----\n",
      "0    9305\n",
      "1     607\n",
      "Name: Info, dtype: int64\n",
      "\n",
      "\n",
      "---- Blur ----\n",
      "0    9214\n",
      "1     698\n",
      "Name: Blur, dtype: int64\n",
      "\n",
      "\n",
      "---- Pawpularity ----\n",
      "28    318\n",
      "30    318\n",
      "26    316\n",
      "31    312\n",
      "29    304\n",
      "     ... \n",
      "98     10\n",
      "97      8\n",
      "90      7\n",
      "1       4\n",
      "99      4\n",
      "Name: Pawpularity, Length: 100, dtype: int64\n",
      "\n",
      "\n"
     ]
    }
   ],
   "source": [
    "for c in df.columns:\n",
    "    print (\"---- %s ----\" % c)\n",
    "    print (df[c].value_counts())\n",
    "    print(\"\\n\")"
   ]
  },
  {
   "cell_type": "code",
   "execution_count": 8,
   "metadata": {},
   "outputs": [
    {
     "data": {
      "text/plain": [
       "Id               0\n",
       "Subject Focus    0\n",
       "Eyes             0\n",
       "Face             0\n",
       "Near             0\n",
       "Action           0\n",
       "Accessory        0\n",
       "Group            0\n",
       "Collage          0\n",
       "Human            0\n",
       "Occlusion        0\n",
       "Info             0\n",
       "Blur             0\n",
       "Pawpularity      0\n",
       "dtype: int64"
      ]
     },
     "metadata": {},
     "output_type": "display_data"
    },
    {
     "name": "stdout",
     "output_type": "stream",
     "text": [
      "Total Null Count: 0\n"
     ]
    }
   ],
   "source": [
    "# Count of null values per column & total\n",
    "display(df.isna().sum())\n",
    "print('Total Null Count:', df.isna().sum().sum())"
   ]
  },
  {
   "cell_type": "code",
   "execution_count": 81,
   "metadata": {},
   "outputs": [
    {
     "data": {
      "image/png": "[encoded data removed]",
      "text/plain": [
       "<Figure size 432x288 with 1 Axes>"
      ]
     },
     "metadata": {
      "needs_background": "light"
     },
     "output_type": "display_data"
    }
   ],
   "source": [
    "sns.histplot(df['Pawpularity']);"
   ]
  },
  {
   "cell_type": "code",
   "execution_count": 12,
   "metadata": {
    "scrolled": false
   },
   "outputs": [
    {
     "name": "stdout",
     "output_type": "stream",
     "text": [
      "progress = 100.0 %0.19 % 0.63 % 0.92 % 1.43 %1.46 % 1.63 % 2.0 % 2.14 % 2.34 % 2.41 % 2.47 %2.56 % 2.57 % 2.7 % 2.74 % 2.82 % 2.83 % 2.88 %2.98 % 3.11 % 3.44 % 3.53 % 3.57 % 3.72 % 3.92 % 4.02 % 4.15 % 4.24 % 4.3 % 4.35 %4.43 % 4.82 % 5.55 % 5.8 % 5.83 % 5.93 % 6.07 % 6.12 % 6.15 % 6.54 % 6.67 % 6.75 %6.82 % 6.89 % 6.97 % 7.17 % 7.25 % 7.31 %7.33 % 7.35 % 7.57 % 7.77 % 7.9 % 8.12 % 8.15 % 8.19 % 8.21 % 8.23 % 8.36 %8.49 %8.72 % 8.8 % 8.87 % 9.02 % 9.03 % 9.06 % 9.11 % 9.31 % 9.32 % 9.41 % 9.48 % 9.58 % 9.76 % 9.83 % 9.89 % 10.25 % 10.27 % 10.32 % 10.33 % 10.36 % 10.45 % 10.54 % 10.55 %10.62 % 10.64 % 10.95 % 10.96 % 10.97 % 11.02 % 11.08 % 11.24 % 11.29 % 11.32 % 11.38 % 11.49 % 11.63 % 11.64 % 11.71 % 11.98 % 12.06 % 12.08 %12.19 % 12.2 % 12.42 % 12.69 % 12.7 % 12.73 % 12.84 % 13.04 % 13.47 % 13.85 % 14.17 %14.25 % 14.32 % 14.48 %14.49 % 14.5 % 14.51 % 14.52 % 14.6 % 14.63 % 14.81 % 14.88 % 15.01 % 15.05 % 15.06 % 15.41 % 15.43 % 15.64 %% 15.74 % 15.76 % 15.77 % 15.95 % 16.08 %% 16.26 % 16.35 % 16.52 % 16.59 % 16.6 % 16.69 % 16.77 % 16.89 % 17.44 %17.67 % 17.74 % 17.9 % 17.91 %17.92 % 17.93 % 18.08 % 18.21 % 18.25 % 18.55 % 18.64 % 18.85 % 18.89 % 18.9 % % 19.1 % 19.14 % 19.53 % 19.59 % 19.63 % 19.68 % 19.69 % 19.7 % 19.74 % 19.9 % 20.18 % 20.23 % 20.25 %20.66 % 20.72 % 20.76 % 20.93 % 20.94 % 20.95 %20.97 % 20.99 % 21.03 % 21.24 % 21.31 % 21.55 % 21.73 % 21.8 % 22.02 % 22.25 % 22.41 % 22.42 % 22.43 % 22.48 % 22.63 % 22.65 % 22.66 % 22.69 % 22.89 % 23.08 % 23.43 % 23.45 % 23.62 % 23.88 % 23.94 % 23.95 %24.05 % 24.14 % 24.37 %24.6 % 24.68 % 25.03 % 25.13 % 25.19 % 25.2 % 25.21 % 25.24 % 25.25 % 25.31 % 25.38 % 25.46 % 25.54 % 25.85 % 25.96 % 26.1 % 26.15 %26.19 % 26.4 % 26.69 % 26.72 % 26.86 % 26.87 % 26.91 %26.92 % 27.15 % 27.55 % 27.86 % 27.94 % 28.17 % 28.28 % 28.36 % 28.41 % 28.61 % 28.69 % 28.83 % 28.88 % 29.09 %29.4 % 29.6 % 29.7 % 29.85 % 30.06 % 30.32 % 30.6 % 30.67 % 30.8 % 31.1 % 31.11 % 31.39 % 31.48 % 31.69 % 31.76 % 31.85 % 32.03 % 32.15 % 32.2 % 32.22 % 32.33 % 32.63 % 32.69 % 32.74 % 32.8 %32.98 % 33.14 % 33.22 % 33.27 % 33.35 % 33.38 % 33.68 %% 34.02 % 34.56 % 34.64 % 34.72 % 35.24 % 35.31 % 36.14 % 36.16 % 36.33 % 36.37 % 36.38 % 36.41 % 36.51 % 36.52 %% 36.72 % 36.74 % 36.85 % 36.86 % 36.87 % 37.3 % 37.44 % 37.45 % 37.48 % 37.54 % 37.56 % 37.6 % 37.83 % 37.91 % 38.09 % 38.18 % 38.27 %38.29 % 38.3 % 38.33 % 38.36 % 38.4 % 38.57 % 38.83 % 38.86 % 38.89 %39.16 %39.17 % 39.22 % 39.32 % 39.36 % 39.56 % 39.59 % 39.62 % 39.68 % 40.17 % 41.22 % 41.32 % 41.33 % 41.37 %41.54 % 41.91 % 42.16 % 42.28 % 42.95 % 43.01 % 43.02 % 43.25 % 43.86 % 43.87 % 43.89 % 44.01 % 44.2 %% 44.55 % 44.65 %44.8 % 45.13 % 45.98 % 46.15 % 46.23 % 46.24 % 46.28 % 46.33 % 46.87 % 47.36 % 47.52 % 47.72 % 48.81 % 49.14 %49.65 % 49.66 % 49.96 % 50.01 % 50.21 % 50.31 % 50.45 % 50.5 % 50.72 % 50.77 % 50.83 %51.04 % 51.29 %51.6 % 51.62 % 51.69 % 52.16 % 52.53 % 52.69 % 52.77 % 52.82 % 53.28 % 53.97 % 54.03 % 54.48 % 54.77 % 54.88 % 55.07 % 55.23 % 55.45 % 56.45 % 56.76 %57.14 % 57.27 % 57.32 % 57.36 % 57.67 % 58.85 % 58.98 % 59.29 % 59.58 % 61.24 % 61.27 % 61.42 % 62.41 % 62.43 % 62.94 % 63.27 %64.07 % 64.44 % 64.55 % 64.87 % 65.36 % 65.37 % 65.45 % 65.53 % 65.66 % 66.01 % 66.04 % 66.05 % 66.18 % 66.44 % 66.49 % 66.54 % 66.72 % 66.74 % 66.79 % 66.83 % 66.92 % 66.98 % 67.14 % 67.19 % 67.51 % 67.68 % 67.69 % 67.74 % 67.88 % 67.99 % 68.36 % 68.4 % 68.41 % 68.52 % 68.53 % 68.54 % 68.68 % 68.78 % 68.79 % 68.83 % 69.09 % 69.14 % 69.33 % 69.45 % 69.47 % 69.78 % 69.79 % 69.8 %% 70.17 % 70.22 % 70.34 % 70.6 % 70.78 % 70.92 % 71.16 % 71.19 % 71.21 % 71.27 % 71.29 %71.36 % 71.44 % 71.46 % 71.47 % 71.75 % 72.35 % 72.4 %72.57 %72.61 % 72.7 % 72.71 % 72.89 % 72.92 % 72.95 % 72.97 % % 73.05 % 73.16 % 73.21 % 73.38 % 73.47 % 73.57 % 73.63 % 73.67 % 73.77 % 73.82 % 73.88 % 73.95 % 74.12 % 74.18 % 74.19 % 74.2 % 74.21 % 74.26 % 74.79 % 74.99 % 75.18 % 75.27 % 75.29 % 75.41 % 75.53 % 75.56 % 75.62 % 75.63 % 75.79 % 75.85 % 76.08 % 76.15 % 76.21 % 76.37 % 76.41 % 76.42 % 76.43 %76.49 %76.5 % 76.51 % 76.76 % 76.79 % 76.88 % 77.17 % 77.23 % 77.32 % 77.5 % 77.65 % 77.67 % 77.7 % 77.97 % 77.98 % 77.99 % 78.0 % 78.05 % 78.15 % 78.17 % 78.61 % 78.66 % 78.81 % 78.88 % 79.14 % 79.33 % % 79.7 % 79.72 % 80.01 % 80.1 %80.23 % 80.42 % 80.5 %80.55 % 80.56 % 80.76 %80.92 % 80.96 % 81.0 % 81.08 % 81.09 % 81.19 % 81.2 % 81.22 % 81.33 % 81.75 % 81.89 % 81.96 % 82.19 %82.34 % 82.6 % 82.92 % 82.93 % 82.98 % 82.99 % 83.05 % 83.16 % 83.17 % 83.25 % 83.47 % 83.57 % 83.58 % 83.64 % 83.82 % 83.83 %83.88 % 83.92 % 84.0 % 84.09 % 84.19 % 84.55 % 84.61 % 84.77 % 84.79 % 85.19 % 85.36 % 85.43 % 85.46 % 85.51 % 86.55 % 86.67 % 86.71 % 86.8 % 86.84 % 86.94 % 87.1 % 87.13 % 87.56 % 87.59 % 87.82 % 87.83 % 87.99 %88.08 % 88.16 % 88.28 % 88.38 % 88.4 % 88.44 % 88.45 % 88.48 % 88.64 % 88.66 % 88.7 % 88.78 %88.96 % 89.05 % 89.06 % 89.15 % 89.22 % 89.35 %89.36 % 89.48 % 89.51 % 89.63 %89.69 % 89.82 % 90.05 % 90.16 % 90.43 % 90.47 % 90.48 % 90.63 % 90.67 % 90.81 % 91.01 % 91.04 % 91.08 % 91.13 % 91.19 % 91.26 % 91.4 %91.61 % 91.65 % 91.78 % 91.89 % 91.9 % 92.12 % 92.21 % 92.33 % 92.34 % 92.4 %92.41 % 92.55 % 92.58 % 92.67 % 92.88 % 93.14 % 93.25 % 93.44 % 93.47 % 93.5 % 93.64 % 93.69 % 93.7 % 93.76 % 93.79 % 93.8 % 93.82 % 93.86 % 94.03 % 94.1 % 94.18 % 94.31 % 94.4 % 94.55 % 94.68 % 94.8 % 94.81 % 94.84 % 94.9 % 95.24 % 95.63 % 95.64 % 95.7 % 95.73 % 95.89 % 96.19 % 96.35 % 96.63 % 96.73 % 96.94 % 97.03 %97.05 % 97.17 % 97.5 % 97.65 % 97.71 % 97.8 % 97.89 % 98.07 % 98.22 % 98.23 % 98.49 % 98.52 % 98.53 % 98.54 % 98.76 % 98.83 % 99.14 % 99.22 % 99.23 % 99.27 % 99.37 % 99.41 % 99.45 % 99.48 % 99.5 % 99.53 % 99.56 % 99.78 % 99.82 %\r"
     ]
    }
   ],
   "source": [
    "images = []\n",
    "count = 0\n",
    "for index in range(len(df)):\n",
    "    Id = df.loc[index, 'Id']\n",
    "    path = 'data/train/'+str(Id)+'.jpg'\n",
    "    img_array = cv2.imread(path)\n",
    "    img_array = resize(img_array, (64, 64), anti_aliasing=True)\n",
    "    images.append(img_array)\n",
    "    count += 1\n",
    "    progress = (count/len(df))*100\n",
    "    print('progress =', round(progress,2), '%', end='\\r')"
   ]
  },
  {
   "cell_type": "code",
   "execution_count": 65,
   "metadata": {},
   "outputs": [],
   "source": [
    "angusdf = pd.read_csv(\"data/angus.csv\")"
   ]
  },
  {
   "cell_type": "code",
   "execution_count": 72,
   "metadata": {},
   "outputs": [
    {
     "name": "stdout",
     "output_type": "stream",
     "text": [
      "progress = 0.07 %\r"
     ]
    }
   ],
   "source": [
    "angusimages = []\n",
    "count = 0\n",
    "for index in range(len(angusdf)):\n",
    "    Id = angusdf.loc[index, 'Id']\n",
    "    path = 'data/angus/'+str(Id)+'.jpg'\n",
    "    img_array = cv2.imread(path)\n",
    "    img_array = resize(img_array, (64, 64), anti_aliasing=True)\n",
    "    angusimages.append(img_array)\n",
    "    count += 1\n",
    "    progress = (count/len(df))*100\n",
    "    print('progress =', round(progress,2), '%', end='\\r')"
   ]
  },
  {
   "cell_type": "code",
   "execution_count": 73,
   "metadata": {},
   "outputs": [],
   "source": [
    "Angus = (np.array(angusimages)/255)"
   ]
  },
  {
   "cell_type": "code",
   "execution_count": 52,
   "metadata": {},
   "outputs": [
    {
     "data": {
      "text/plain": [
       "9912"
      ]
     },
     "execution_count": 52,
     "metadata": {},
     "output_type": "execute_result"
    }
   ],
   "source": [
    "df.shape[0]"
   ]
  },
  {
   "cell_type": "code",
   "execution_count": 53,
   "metadata": {},
   "outputs": [
    {
     "data": {
      "text/plain": [
       "9912"
      ]
     },
     "execution_count": 53,
     "metadata": {},
     "output_type": "execute_result"
    }
   ],
   "source": [
    "len(df)"
   ]
  },
  {
   "cell_type": "code",
   "execution_count": 55,
   "metadata": {},
   "outputs": [
    {
     "ename": "KeyboardInterrupt",
     "evalue": "",
     "output_type": "error",
     "traceback": [
      "\u001b[1;31m---------------------------------------------------------------------------\u001b[0m",
      "\u001b[1;31mKeyboardInterrupt\u001b[0m                         Traceback (most recent call last)",
      "\u001b[1;32m<ipython-input-55-eaf1871a03c6>\u001b[0m in \u001b[0;36m<module>\u001b[1;34m\u001b[0m\n\u001b[1;32m----> 1\u001b[1;33m \u001b[0mX\u001b[0m\u001b[1;33m=\u001b[0m\u001b[1;33m(\u001b[0m\u001b[0mnp\u001b[0m\u001b[1;33m.\u001b[0m\u001b[0marray\u001b[0m\u001b[1;33m(\u001b[0m\u001b[0mimages\u001b[0m\u001b[1;33m)\u001b[0m\u001b[1;33m/\u001b[0m\u001b[1;36m255\u001b[0m\u001b[1;33m)\u001b[0m\u001b[1;33m\u001b[0m\u001b[1;33m\u001b[0m\u001b[0m\n\u001b[0m",
      "\u001b[1;31mKeyboardInterrupt\u001b[0m: "
     ]
    }
   ],
   "source": [
    "X=(np.array(images)/255)"
   ]
  },
  {
   "cell_type": "code",
   "execution_count": 54,
   "metadata": {
    "scrolled": false
   },
   "outputs": [
    {
     "data": {
      "text/plain": [
       "(9912, 64, 64, 3)"
      ]
     },
     "execution_count": 54,
     "metadata": {},
     "output_type": "execute_result"
    }
   ],
   "source": [
    "X.shape"
   ]
  },
  {
   "cell_type": "code",
   "execution_count": 18,
   "metadata": {},
   "outputs": [],
   "source": [
    "y = df['Pawpularity']"
   ]
  },
  {
   "cell_type": "code",
   "execution_count": 19,
   "metadata": {},
   "outputs": [],
   "source": [
    "X_train, X_test, y_train, y_test = train_test_split(X, y, random_state=42)"
   ]
  },
  {
   "cell_type": "code",
   "execution_count": 147,
   "metadata": {},
   "outputs": [],
   "source": [
    "def model_eval(model, X_train, y_train, X_test, y_test):\n",
    "    \n",
    "    # calculate training data metrics\n",
    "    train_eval = model.evaluate(X_train, y_train)\n",
    "    \n",
    "    # calculate test data metrics\n",
    "    test_eval = model.evaluate(X_test, y_test)\n",
    "    \n",
    "    # print metrics\n",
    "    print(f\"\"\"\n",
    "    {model} Training Metrics:\n",
    "    Loss: {round(train_eval[0] , 3)}\n",
    "    Root Mean Square Error: {round(train_eval[1] , 3)}\n",
    "    ------\n",
    "    {model} Test Metrics:\n",
    "    Loss: {round(test_eval[0] , 3)}\n",
    "    Root Mean Square Error: {round(test_eval[1] , 3)}\n",
    "    \"\"\")"
   ]
  },
  {
   "cell_type": "code",
   "execution_count": 37,
   "metadata": {
    "scrolled": true
   },
   "outputs": [
    {
     "name": "stdout",
     "output_type": "stream",
     "text": [
      "Epoch 1/5\n",
      "233/233 [==============================] - 95s 408ms/step - loss: 1854.0858 - root_mean_squared_error: 43.0591\n",
      "Epoch 2/5\n",
      "233/233 [==============================] - 88s 377ms/step - loss: 1854.0845 - root_mean_squared_error: 43.0591\n",
      "Epoch 3/5\n",
      "233/233 [==============================] - 88s 380ms/step - loss: 1854.0863 - root_mean_squared_error: 43.0591\n",
      "Epoch 4/5\n",
      "233/233 [==============================] - 98s 423ms/step - loss: 1854.0857 - root_mean_squared_error: 43.0591\n",
      "Epoch 5/5\n",
      "233/233 [==============================] - 97s 418ms/step - loss: 1854.0856 - root_mean_squared_error: 43.0591\n"
     ]
    },
    {
     "data": {
      "text/plain": [
       "<tensorflow.python.keras.callbacks.History at 0x199476dc2e0>"
      ]
     },
     "execution_count": 37,
     "metadata": {},
     "output_type": "execute_result"
    }
   ],
   "source": [
    "ann = tf.keras.Sequential([\n",
    "        layers.Flatten(),\n",
    "        layers.Dense(3000, activation='relu'),\n",
    "        layers.Dense(1000, activation='relu'),\n",
    "        layers.Dense(10, activation='softmax')\n",
    "      ])\n",
    "\n",
    "ann.compile(optimizer='adam',\n",
    "              loss=tf.keras.losses.MeanSquaredError(),\n",
    "              metrics=[tf.keras.metrics.RootMeanSquaredError()])\n",
    "\n",
    "ann.fit(X_train, y_train, epochs=5)"
   ]
  },
  {
   "cell_type": "code",
   "execution_count": 148,
   "metadata": {
    "scrolled": true
   },
   "outputs": [
    {
     "name": "stdout",
     "output_type": "stream",
     "text": [
      "233/233 [==============================] - 22s 97ms/step - loss: 1854.0861 - root_mean_squared_error: 43.0591\n",
      "78/78 [==============================] - 8s 100ms/step - loss: 1891.1780 - root_mean_squared_error: 43.4877\n",
      "\n",
      "    <tensorflow.python.keras.engine.sequential.Sequential object at 0x00000199476978E0> Training Metrics:\n",
      "    Loss: 1854.086\n",
      "    Root Mean Square Error: 43.059\n",
      "    ------\n",
      "    <tensorflow.python.keras.engine.sequential.Sequential object at 0x00000199476978E0> Test Metrics:\n",
      "    Loss: 1891.178\n",
      "    Root Mean Square Error: 43.488\n",
      "    \n"
     ]
    }
   ],
   "source": [
    "model_eval(ann, X_train, y_train, X_test, y_test)"
   ]
  },
  {
   "cell_type": "code",
   "execution_count": 150,
   "metadata": {},
   "outputs": [
    {
     "data": {
      "text/plain": [
       "dict_keys(['loss', 'root_mean_squared_error'])"
      ]
     },
     "execution_count": 150,
     "metadata": {},
     "output_type": "execute_result"
    }
   ],
   "source": [
    "history_dict = history.history\n",
    "history_dict.keys()"
   ]
  },
  {
   "cell_type": "code",
   "execution_count": null,
   "metadata": {},
   "outputs": [],
   "source": [
    "acc = history.history['acc']\n",
    "val_acc = history.history['val_acc']\n",
    "loss = history.history['loss']\n",
    "val_loss = history.history['val_loss']\n",
    "epochs = range(len(acc))\n",
    "plt.plot(epochs, acc, 'bo', label='Training acc')\n",
    "plt.plot(epochs, val_acc, 'b', label='Validation acc')\n",
    "plt.title('Training and validation accuracy')\n",
    "plt.legend()\n",
    "plt.figure()\n",
    "plt.plot(epochs, loss, 'bo', label='Training loss')\n",
    "plt.plot(epochs, val_loss, 'b', label='Validation loss')\n",
    "plt.title('Training and validation loss')\n",
    "plt.legend()\n",
    "plt.show()"
   ]
  },
  {
   "cell_type": "code",
   "execution_count": 162,
   "metadata": {},
   "outputs": [
    {
     "name": "stdout",
     "output_type": "stream",
     "text": [
      "dict_keys(['loss', 'root_mean_squared_error'])\n"
     ]
    }
   ],
   "source": [
    "print(history.history.keys())"
   ]
  },
  {
   "cell_type": "code",
   "execution_count": 165,
   "metadata": {},
   "outputs": [
    {
     "data": {
      "text/plain": [
       "[27.64341163635254,\n",
       " 21.727224349975586,\n",
       " 21.614442825317383,\n",
       " 21.524890899658203,\n",
       " 21.419546127319336,\n",
       " 21.332698822021484,\n",
       " 21.23833465576172,\n",
       " 21.15863609313965,\n",
       " 21.064817428588867,\n",
       " 20.98931884765625]"
      ]
     },
     "execution_count": 165,
     "metadata": {},
     "output_type": "execute_result"
    }
   ],
   "source": [
    "history.history['root_mean_squared_error']"
   ]
  },
  {
   "cell_type": "code",
   "execution_count": 33,
   "metadata": {
    "scrolled": true
   },
   "outputs": [
    {
     "name": "stdout",
     "output_type": "stream",
     "text": [
      "233/233 [==============================] - 25s 106ms/step - loss: 1854.0861 - root_mean_squared_error: 43.0591\n"
     ]
    },
    {
     "data": {
      "text/plain": [
       "[1854.0860595703125, 43.059078216552734]"
      ]
     },
     "execution_count": 33,
     "metadata": {},
     "output_type": "execute_result"
    }
   ],
   "source": [
    "ann_results_train = ann.evaluate(X_train, y_train)\n",
    "ann_results_train"
   ]
  },
  {
   "cell_type": "code",
   "execution_count": 90,
   "metadata": {
    "scrolled": true
   },
   "outputs": [
    {
     "name": "stdout",
     "output_type": "stream",
     "text": [
      "78/78 [==============================] - 8s 105ms/step - loss: 1891.1780 - root_mean_squared_error: 43.4877\n"
     ]
    },
    {
     "data": {
      "text/plain": [
       "1891.177978515625"
      ]
     },
     "execution_count": 90,
     "metadata": {},
     "output_type": "execute_result"
    }
   ],
   "source": [
    "ann_results_test = ann.evaluate(X_test, y_test)\n",
    "ann_results_test"
   ]
  },
  {
   "cell_type": "code",
   "execution_count": 126,
   "metadata": {
    "scrolled": false
   },
   "outputs": [
    {
     "name": "stdout",
     "output_type": "stream",
     "text": [
      "Epoch 1/10\n",
      "233/233 [==============================] - 1s 5ms/step - loss: 1666.2449 - root_mean_squared_error: 40.8197\n",
      "Epoch 2/10\n",
      "233/233 [==============================] - 1s 4ms/step - loss: 1328.6251 - root_mean_squared_error: 36.4503\n",
      "Epoch 3/10\n",
      "233/233 [==============================] - 1s 5ms/step - loss: 1068.1133 - root_mean_squared_error: 32.6820\n",
      "Epoch 4/10\n",
      "233/233 [==============================] - 1s 4ms/step - loss: 873.0610 - root_mean_squared_error: 29.5476\n",
      "Epoch 5/10\n",
      "233/233 [==============================] - 1s 4ms/step - loss: 731.9345 - root_mean_squared_error: 27.0543\n",
      "Epoch 6/10\n",
      "233/233 [==============================] - 1s 5ms/step - loss: 633.2869 - root_mean_squared_error: 25.1652\n",
      "Epoch 7/10\n",
      "233/233 [==============================] - 1s 5ms/step - loss: 567.4288 - root_mean_squared_error: 23.8208\n",
      "Epoch 8/10\n",
      "233/233 [==============================] - 1s 5ms/step - loss: 525.7422 - root_mean_squared_error: 22.9291\n",
      "Epoch 9/10\n",
      "233/233 [==============================] - 1s 5ms/step - loss: 501.0116 - root_mean_squared_error: 22.3833\n",
      "Epoch 10/10\n",
      "233/233 [==============================] - 1s 5ms/step - loss: 487.3433 - root_mean_squared_error: 22.0759\n"
     ]
    },
    {
     "data": {
      "text/plain": [
       "<tensorflow.python.keras.callbacks.History at 0x19a54a85c40>"
      ]
     },
     "execution_count": 126,
     "metadata": {},
     "output_type": "execute_result"
    }
   ],
   "source": [
    "basemodel = tf.keras.Sequential([\n",
    "    tf.keras.layers.Flatten(input_shape=(64, 64, 3)),\n",
    "    tf.keras.layers.Dense(units=1, activation=None)\n",
    "])\n",
    "\n",
    "basemodel.compile(optimizer='adam',\n",
    "                  loss=tf.keras.losses.MeanSquaredError(),\n",
    "                  metrics=[tf.keras.metrics.RootMeanSquaredError()])\n",
    "\n",
    "basemodel.fit(X_train,y_train, epochs=10)"
   ]
  },
  {
   "cell_type": "code",
   "execution_count": 125,
   "metadata": {},
   "outputs": [
    {
     "name": "stdout",
     "output_type": "stream",
     "text": [
      "233/233 [==============================] - 1s 4ms/step - loss: 464.1647 - root_mean_squared_error: 21.5445\n"
     ]
    },
    {
     "data": {
      "text/plain": [
       "[464.1646728515625, 21.54448127746582]"
      ]
     },
     "execution_count": 125,
     "metadata": {},
     "output_type": "execute_result"
    }
   ],
   "source": [
    "baseline_results_train = basemodel.evaluate(X_train, y_train)\n",
    "baseline_results_train"
   ]
  },
  {
   "cell_type": "code",
   "execution_count": 99,
   "metadata": {},
   "outputs": [
    {
     "name": "stdout",
     "output_type": "stream",
     "text": [
      "78/78 [==============================] - 0s 5ms/step - loss: 506.6156 - root_mean_squared_error: 22.5081\n"
     ]
    },
    {
     "data": {
      "text/plain": [
       "[506.6155700683594, 22.508121490478516]"
      ]
     },
     "execution_count": 99,
     "metadata": {},
     "output_type": "execute_result"
    }
   ],
   "source": [
    "baseline_results_test = basemodel.evaluate(X_test, y_test)\n",
    "baseline_results_test"
   ]
  },
  {
   "cell_type": "code",
   "execution_count": 100,
   "metadata": {
    "scrolled": true
   },
   "outputs": [
    {
     "data": {
      "text/plain": [
       "array([[50.560146],\n",
       "       [45.98768 ],\n",
       "       [30.489588],\n",
       "       [35.786816],\n",
       "       [29.730162],\n",
       "       [29.589037],\n",
       "       [32.022743]], dtype=float32)"
      ]
     },
     "execution_count": 100,
     "metadata": {},
     "output_type": "execute_result"
    }
   ],
   "source": [
    "basemodel.predict(Angus)"
   ]
  },
  {
   "cell_type": "code",
   "execution_count": 101,
   "metadata": {},
   "outputs": [
    {
     "name": "stdout",
     "output_type": "stream",
     "text": [
      "Epoch 1/10\n",
      "233/233 [==============================] - 6s 25ms/step - loss: 760.2005 - root_mean_squared_error: 27.5717\n",
      "Epoch 2/10\n",
      "233/233 [==============================] - 5s 23ms/step - loss: 471.9139 - root_mean_squared_error: 21.7236\n",
      "Epoch 3/10\n",
      "233/233 [==============================] - 5s 23ms/step - loss: 466.7472 - root_mean_squared_error: 21.6043\n",
      "Epoch 4/10\n",
      "233/233 [==============================] - 5s 23ms/step - loss: 462.8084 - root_mean_squared_error: 21.5130\n",
      "Epoch 5/10\n",
      "233/233 [==============================] - 5s 24ms/step - loss: 458.0831 - root_mean_squared_error: 21.4029\n",
      "Epoch 6/10\n",
      "233/233 [==============================] - 6s 25ms/step - loss: 454.4273 - root_mean_squared_error: 21.3173\n",
      "Epoch 7/10\n",
      "233/233 [==============================] - 5s 23ms/step - loss: 450.8512 - root_mean_squared_error: 21.2333\n",
      "Epoch 8/10\n",
      "233/233 [==============================] - 5s 22ms/step - loss: 446.4073 - root_mean_squared_error: 21.1284\n",
      "Epoch 9/10\n",
      "233/233 [==============================] - 5s 22ms/step - loss: 443.1759 - root_mean_squared_error: 21.0517\n",
      "Epoch 10/10\n",
      "233/233 [==============================] - 5s 22ms/step - loss: 439.9038 - root_mean_squared_error: 20.9739\n"
     ]
    },
    {
     "data": {
      "text/plain": [
       "<tensorflow.python.keras.callbacks.History at 0x19a51dd17c0>"
      ]
     },
     "execution_count": 101,
     "metadata": {},
     "output_type": "execute_result"
    }
   ],
   "source": [
    "model1 = tf.keras.Sequential([\n",
    "    tf.keras.layers.Flatten(input_shape=(64, 64, 3)),\n",
    "    tf.keras.layers.Dense(units=128, activation='relu'),\n",
    "    tf.keras.layers.Dense(units=1, activation=None)\n",
    "])\n",
    "\n",
    "model1.compile(optimizer='adam',\n",
    "              loss=tf.keras.losses.MeanSquaredError(),\n",
    "              metrics=[tf.keras.metrics.RootMeanSquaredError()])\n",
    "\n",
    "model1.fit(X_train,y_train, epochs=10)"
   ]
  },
  {
   "cell_type": "code",
   "execution_count": 102,
   "metadata": {},
   "outputs": [
    {
     "name": "stdout",
     "output_type": "stream",
     "text": [
      "233/233 [==============================] - 2s 8ms/step - loss: 437.4350 - root_mean_squared_error: 20.9149\n"
     ]
    },
    {
     "data": {
      "text/plain": [
       "[437.4350280761719, 20.914947509765625]"
      ]
     },
     "execution_count": 102,
     "metadata": {},
     "output_type": "execute_result"
    }
   ],
   "source": [
    "model1_results_train = model1.evaluate(X_train, y_train)\n",
    "model1_results_train"
   ]
  },
  {
   "cell_type": "code",
   "execution_count": 103,
   "metadata": {},
   "outputs": [
    {
     "name": "stdout",
     "output_type": "stream",
     "text": [
      "78/78 [==============================] - 1s 8ms/step - loss: 466.6355 - root_mean_squared_error: 21.6017\n"
     ]
    },
    {
     "data": {
      "text/plain": [
       "[466.6355285644531, 21.601747512817383]"
      ]
     },
     "execution_count": 103,
     "metadata": {},
     "output_type": "execute_result"
    }
   ],
   "source": [
    "model1_results_test = model1.evaluate(X_test, y_test)\n",
    "model1_results_test"
   ]
  },
  {
   "cell_type": "code",
   "execution_count": 104,
   "metadata": {},
   "outputs": [
    {
     "data": {
      "text/plain": [
       "array([[49.027485],\n",
       "       [44.889626],\n",
       "       [38.757145],\n",
       "       [42.81725 ],\n",
       "       [31.706997],\n",
       "       [33.819065],\n",
       "       [36.058857]], dtype=float32)"
      ]
     },
     "execution_count": 104,
     "metadata": {},
     "output_type": "execute_result"
    }
   ],
   "source": [
    "model1.predict(Angus)"
   ]
  },
  {
   "cell_type": "code",
   "execution_count": 105,
   "metadata": {},
   "outputs": [
    {
     "name": "stdout",
     "output_type": "stream",
     "text": [
      "Epoch 1/10\n",
      "233/233 [==============================] - 5s 23ms/step - loss: 725.5312 - root_mean_squared_error: 26.9357\n",
      "Epoch 2/10\n",
      "233/233 [==============================] - 5s 23ms/step - loss: 471.6515 - root_mean_squared_error: 21.7175\n",
      "Epoch 3/10\n",
      "233/233 [==============================] - 6s 25ms/step - loss: 466.5613 - root_mean_squared_error: 21.6000\n",
      "Epoch 4/10\n",
      "233/233 [==============================] - 6s 26ms/step - loss: 461.8459 - root_mean_squared_error: 21.4906\n",
      "Epoch 5/10\n",
      "233/233 [==============================] - 6s 26ms/step - loss: 457.4921 - root_mean_squared_error: 21.3891\n",
      "Epoch 6/10\n",
      "233/233 [==============================] - 5s 23ms/step - loss: 453.3649 - root_mean_squared_error: 21.2924\n",
      "Epoch 7/10\n",
      "233/233 [==============================] - 5s 22ms/step - loss: 449.1742 - root_mean_squared_error: 21.1937 1s - loss: 4 - ETA: 0s - loss: 453.6304 - root_mean_\n",
      "Epoch 8/10\n",
      "233/233 [==============================] - 5s 22ms/step - loss: 445.6708 - root_mean_squared_error: 21.1109\n",
      "Epoch 9/10\n",
      "233/233 [==============================] - 5s 22ms/step - loss: 442.1763 - root_mean_squared_error: 21.0280 3s - loss: 440\n",
      "Epoch 10/10\n",
      "233/233 [==============================] - 5s 22ms/step - loss: 438.4143 - root_mean_squared_error: 20.9383\n"
     ]
    },
    {
     "data": {
      "text/plain": [
       "<tensorflow.python.keras.callbacks.History at 0x1997e8875b0>"
      ]
     },
     "execution_count": 105,
     "metadata": {},
     "output_type": "execute_result"
    }
   ],
   "source": [
    "model2 = tf.keras.Sequential([\n",
    "    tf.keras.layers.Flatten(input_shape=(64, 64, 3)),\n",
    "    tf.keras.layers.Dense(units=128, activation='relu'),\n",
    "    tf.keras.layers.Dense(units=1, activation='relu')\n",
    "])\n",
    "\n",
    "model2.compile(optimizer='adam',\n",
    "              loss=tf.keras.losses.MeanSquaredError(),\n",
    "              metrics=[tf.keras.metrics.RootMeanSquaredError()])\n",
    "\n",
    "model2.fit(X_train,y_train, epochs=10)"
   ]
  },
  {
   "cell_type": "code",
   "execution_count": 106,
   "metadata": {},
   "outputs": [
    {
     "name": "stdout",
     "output_type": "stream",
     "text": [
      "233/233 [==============================] - 2s 9ms/step - loss: 437.3018 - root_mean_squared_error: 20.9118\n"
     ]
    },
    {
     "data": {
      "text/plain": [
       "[437.3017883300781, 20.911762237548828]"
      ]
     },
     "execution_count": 106,
     "metadata": {},
     "output_type": "execute_result"
    }
   ],
   "source": [
    "model2_results_train = model2.evaluate(X_train, y_train)\n",
    "model2_results_train"
   ]
  },
  {
   "cell_type": "code",
   "execution_count": 107,
   "metadata": {},
   "outputs": [
    {
     "name": "stdout",
     "output_type": "stream",
     "text": [
      "78/78 [==============================] - 1s 10ms/step - loss: 465.1524 - root_mean_squared_error: 21.5674\n"
     ]
    },
    {
     "data": {
      "text/plain": [
       "[465.15240478515625, 21.567392349243164]"
      ]
     },
     "execution_count": 107,
     "metadata": {},
     "output_type": "execute_result"
    }
   ],
   "source": [
    "model2_results_test = model2.evaluate(X_test, y_test)\n",
    "model2_results_test"
   ]
  },
  {
   "cell_type": "code",
   "execution_count": 108,
   "metadata": {},
   "outputs": [
    {
     "name": "stdout",
     "output_type": "stream",
     "text": [
      "WARNING:tensorflow:5 out of the last 12 calls to <function Model.make_predict_function.<locals>.predict_function at 0x000001994DB1B430> triggered tf.function retracing. Tracing is expensive and the excessive number of tracings could be due to (1) creating @tf.function repeatedly in a loop, (2) passing tensors with different shapes, (3) passing Python objects instead of tensors. For (1), please define your @tf.function outside of the loop. For (2), @tf.function has experimental_relax_shapes=True option that relaxes argument shapes that can avoid unnecessary retracing. For (3), please refer to https://www.tensorflow.org/tutorials/customization/performance#python_or_tensor_args and https://www.tensorflow.org/api_docs/python/tf/function for  more details.\n"
     ]
    },
    {
     "data": {
      "text/plain": [
       "array([[51.827145],\n",
       "       [47.452126],\n",
       "       [40.70962 ],\n",
       "       [45.04008 ],\n",
       "       [33.839874],\n",
       "       [35.918907],\n",
       "       [38.176846]], dtype=float32)"
      ]
     },
     "execution_count": 108,
     "metadata": {},
     "output_type": "execute_result"
    }
   ],
   "source": [
    "model2.predict(Angus)"
   ]
  },
  {
   "cell_type": "code",
   "execution_count": 110,
   "metadata": {},
   "outputs": [
    {
     "name": "stdout",
     "output_type": "stream",
     "text": [
      "Epoch 1/10\n",
      "233/233 [==============================] - 7s 29ms/step - loss: 687.4943 - root_mean_squared_error: 26.2201\n",
      "Epoch 2/10\n",
      "233/233 [==============================] - 7s 31ms/step - loss: 465.6230 - root_mean_squared_error: 21.5783\n",
      "Epoch 3/10\n",
      "233/233 [==============================] - 7s 29ms/step - loss: 456.2186 - root_mean_squared_error: 21.3593\n",
      "Epoch 4/10\n",
      "233/233 [==============================] - 6s 27ms/step - loss: 449.6800 - root_mean_squared_error: 21.2057\n",
      "Epoch 5/10\n",
      "233/233 [==============================] - 8s 33ms/step - loss: 442.2668 - root_mean_squared_error: 21.0301 0s - loss: 442.0395 - root_mean_squared_error: 21.02 - ETA: 0s - loss: 440.6403 - root_mean_squared_er\n",
      "Epoch 6/10\n",
      "233/233 [==============================] - 6s 27ms/step - loss: 434.9645 - root_mean_squared_error: 20.8558\n",
      "Epoch 7/10\n",
      "233/233 [==============================] - 6s 26ms/step - loss: 429.4001 - root_mean_squared_error: 20.7220\n",
      "Epoch 8/10\n",
      "233/233 [==============================] - 6s 25ms/step - loss: 423.3078 - root_mean_squared_error: 20.5744\n",
      "Epoch 9/10\n",
      "233/233 [==============================] - 5s 22ms/step - loss: 420.1214 - root_mean_squared_error: 20.4969\n",
      "Epoch 10/10\n",
      "233/233 [==============================] - 5s 22ms/step - loss: 417.5265 - root_mean_squared_error: 20.4335\n"
     ]
    },
    {
     "data": {
      "text/plain": [
       "<tensorflow.python.keras.callbacks.History at 0x19a5c7c9e80>"
      ]
     },
     "execution_count": 110,
     "metadata": {},
     "output_type": "execute_result"
    }
   ],
   "source": [
    "model3 = tf.keras.Sequential([\n",
    "    tf.keras.layers.Flatten(input_shape=(64, 64, 3)),\n",
    "    tf.keras.layers.Dense(units=128, activation='relu'),\n",
    "    tf.keras.layers.Dense(units=64, activation='relu'),\n",
    "    tf.keras.layers.Dense(units=1, activation='relu')\n",
    "])\n",
    "\n",
    "model3.compile(optimizer='adam',\n",
    "              loss=tf.keras.losses.MeanSquaredError(),\n",
    "              metrics=[tf.keras.metrics.RootMeanSquaredError()])\n",
    "\n",
    "model3.fit(X_train,y_train, epochs=10)"
   ]
  },
  {
   "cell_type": "code",
   "execution_count": 111,
   "metadata": {},
   "outputs": [
    {
     "name": "stdout",
     "output_type": "stream",
     "text": [
      "233/233 [==============================] - 2s 11ms/step - loss: 421.1823 - root_mean_squared_error: 20.5227\n"
     ]
    },
    {
     "data": {
      "text/plain": [
       "[421.1822509765625, 20.52272605895996]"
      ]
     },
     "execution_count": 111,
     "metadata": {},
     "output_type": "execute_result"
    }
   ],
   "source": [
    "model3_results_train = model3.evaluate(X_train, y_train)\n",
    "model3_results_train"
   ]
  },
  {
   "cell_type": "code",
   "execution_count": 112,
   "metadata": {},
   "outputs": [
    {
     "name": "stdout",
     "output_type": "stream",
     "text": [
      "78/78 [==============================] - 1s 15ms/step - loss: 454.3867 - root_mean_squared_error: 21.3163\n"
     ]
    },
    {
     "data": {
      "text/plain": [
       "[454.3866882324219, 21.316347122192383]"
      ]
     },
     "execution_count": 112,
     "metadata": {},
     "output_type": "execute_result"
    }
   ],
   "source": [
    "model3_results_test = model3.evaluate(X_test, y_test)\n",
    "model3_results_test"
   ]
  },
  {
   "cell_type": "code",
   "execution_count": 113,
   "metadata": {},
   "outputs": [
    {
     "name": "stdout",
     "output_type": "stream",
     "text": [
      "WARNING:tensorflow:6 out of the last 13 calls to <function Model.make_predict_function.<locals>.predict_function at 0x0000019A5E4AFDC0> triggered tf.function retracing. Tracing is expensive and the excessive number of tracings could be due to (1) creating @tf.function repeatedly in a loop, (2) passing tensors with different shapes, (3) passing Python objects instead of tensors. For (1), please define your @tf.function outside of the loop. For (2), @tf.function has experimental_relax_shapes=True option that relaxes argument shapes that can avoid unnecessary retracing. For (3), please refer to https://www.tensorflow.org/tutorials/customization/performance#python_or_tensor_args and https://www.tensorflow.org/api_docs/python/tf/function for  more details.\n"
     ]
    },
    {
     "data": {
      "text/plain": [
       "array([[45.249004],\n",
       "       [43.734444],\n",
       "       [42.45512 ],\n",
       "       [45.328007],\n",
       "       [37.970776],\n",
       "       [40.79989 ],\n",
       "       [39.10857 ]], dtype=float32)"
      ]
     },
     "execution_count": 113,
     "metadata": {},
     "output_type": "execute_result"
    }
   ],
   "source": [
    "model3.predict(Angus)"
   ]
  },
  {
   "cell_type": "code",
   "execution_count": 127,
   "metadata": {},
   "outputs": [
    {
     "name": "stdout",
     "output_type": "stream",
     "text": [
      "Epoch 1/10\n",
      "233/233 [==============================] - 44s 191ms/step - loss: 584.9793 - root_mean_squared_error: 24.1863\n",
      "Epoch 2/10\n",
      "233/233 [==============================] - 47s 201ms/step - loss: 431.9220 - root_mean_squared_error: 20.7827\n",
      "Epoch 3/10\n",
      "233/233 [==============================] - 42s 179ms/step - loss: 428.2815 - root_mean_squared_error: 20.6950\n",
      "Epoch 4/10\n",
      "233/233 [==============================] - 38s 162ms/step - loss: 427.8236 - root_mean_squared_error: 20.6839\n",
      "Epoch 5/10\n",
      "233/233 [==============================] - 40s 172ms/step - loss: 425.8780 - root_mean_squared_error: 20.6368\n",
      "Epoch 6/10\n",
      "233/233 [==============================] - 42s 181ms/step - loss: 421.8957 - root_mean_squared_error: 20.5401\n",
      "Epoch 7/10\n",
      "233/233 [==============================] - 38s 162ms/step - loss: 425.4417 - root_mean_squared_error: 20.6262\n",
      "Epoch 8/10\n",
      "233/233 [==============================] - 42s 179ms/step - loss: 431.7321 - root_mean_squared_error: 20.7782\n",
      "Epoch 9/10\n",
      "233/233 [==============================] - 46s 196ms/step - loss: 425.3903 - root_mean_squared_error: 20.6250\n",
      "Epoch 10/10\n",
      "233/233 [==============================] - 38s 162ms/step - loss: 428.3051 - root_mean_squared_error: 20.6955\n"
     ]
    },
    {
     "data": {
      "text/plain": [
       "<tensorflow.python.keras.callbacks.History at 0x19a54d124c0>"
      ]
     },
     "execution_count": 127,
     "metadata": {},
     "output_type": "execute_result"
    }
   ],
   "source": [
    "model4 = tf.keras.Sequential([\n",
    "    tf.keras.layers.Conv2D(32, (3, 3), activation='relu',input_shape=(64 ,64,  3)),\n",
    "    tf.keras.layers.MaxPooling2D((2, 2)),\n",
    "    tf.keras.layers.Conv2D(32, (4, 4), activation='relu'),\n",
    "    tf.keras.layers.MaxPooling2D((2, 2)),\n",
    "    tf.keras.layers.Conv2D(64, (3, 3), activation='relu'),\n",
    "    tf.keras.layers.MaxPooling2D((2, 2)),\n",
    "    tf.keras.layers.Flatten(),\n",
    "    tf.keras.layers.Dense(128, activation='relu'),\n",
    "    tf.keras.layers.Dense(64, activation='relu'),\n",
    "    tf.keras.layers.Dense(1, activation='relu'),\n",
    "])\n",
    "model4.compile(optimizer='adam',\n",
    "              loss=tf.keras.losses.MeanSquaredError(),\n",
    "              metrics=[tf.keras.metrics.RootMeanSquaredError()])\n",
    "\n",
    "model4.fit(X_train,y_train, epochs=10)"
   ]
  },
  {
   "cell_type": "code",
   "execution_count": 128,
   "metadata": {},
   "outputs": [
    {
     "name": "stdout",
     "output_type": "stream",
     "text": [
      "233/233 [==============================] - 12s 52ms/step - loss: 427.7314 - root_mean_squared_error: 20.6817\n"
     ]
    },
    {
     "data": {
      "text/plain": [
       "[427.7314453125, 20.681669235229492]"
      ]
     },
     "execution_count": 128,
     "metadata": {},
     "output_type": "execute_result"
    }
   ],
   "source": [
    "model4_results_train = model4.evaluate(X_train, y_train)\n",
    "model4_results_train"
   ]
  },
  {
   "cell_type": "code",
   "execution_count": 129,
   "metadata": {},
   "outputs": [
    {
     "name": "stdout",
     "output_type": "stream",
     "text": [
      "78/78 [==============================] - 4s 47ms/step - loss: 453.6400 - root_mean_squared_error: 21.2988\n"
     ]
    },
    {
     "data": {
      "text/plain": [
       "[453.6400451660156, 21.298828125]"
      ]
     },
     "execution_count": 129,
     "metadata": {},
     "output_type": "execute_result"
    }
   ],
   "source": [
    "model4_results_test = model4.evaluate(X_test, y_test)\n",
    "model4_results_test"
   ]
  },
  {
   "cell_type": "code",
   "execution_count": 130,
   "metadata": {},
   "outputs": [
    {
     "name": "stdout",
     "output_type": "stream",
     "text": [
      "WARNING:tensorflow:8 out of the last 15 calls to <function Model.make_predict_function.<locals>.predict_function at 0x0000019A550334C0> triggered tf.function retracing. Tracing is expensive and the excessive number of tracings could be due to (1) creating @tf.function repeatedly in a loop, (2) passing tensors with different shapes, (3) passing Python objects instead of tensors. For (1), please define your @tf.function outside of the loop. For (2), @tf.function has experimental_relax_shapes=True option that relaxes argument shapes that can avoid unnecessary retracing. For (3), please refer to https://www.tensorflow.org/tutorials/customization/performance#python_or_tensor_args and https://www.tensorflow.org/api_docs/python/tf/function for  more details.\n"
     ]
    },
    {
     "data": {
      "text/plain": [
       "array([[41.826263],\n",
       "       [41.63789 ],\n",
       "       [41.448685],\n",
       "       [41.55911 ],\n",
       "       [41.10739 ],\n",
       "       [41.147514],\n",
       "       [41.286156]], dtype=float32)"
      ]
     },
     "execution_count": 130,
     "metadata": {},
     "output_type": "execute_result"
    }
   ],
   "source": [
    "model4.predict(Angus)"
   ]
  },
  {
   "cell_type": "code",
   "execution_count": null,
   "metadata": {},
   "outputs": [],
   "source": []
  },
  {
   "cell_type": "code",
   "execution_count": null,
   "metadata": {},
   "outputs": [],
   "source": []
  },
  {
   "cell_type": "code",
   "execution_count": null,
   "metadata": {},
   "outputs": [],
   "source": []
  },
  {
   "cell_type": "code",
   "execution_count": null,
   "metadata": {},
   "outputs": [],
   "source": []
  },
  {
   "cell_type": "code",
   "execution_count": null,
   "metadata": {},
   "outputs": [],
   "source": []
  },
  {
   "cell_type": "code",
   "execution_count": null,
   "metadata": {},
   "outputs": [],
   "source": []
  },
  {
   "cell_type": "code",
   "execution_count": null,
   "metadata": {},
   "outputs": [],
   "source": []
  },
  {
   "cell_type": "code",
   "execution_count": null,
   "metadata": {},
   "outputs": [],
   "source": []
  },
  {
   "cell_type": "code",
   "execution_count": null,
   "metadata": {},
   "outputs": [],
   "source": []
  },
  {
   "cell_type": "code",
   "execution_count": null,
   "metadata": {},
   "outputs": [],
   "source": []
  },
  {
   "cell_type": "code",
   "execution_count": null,
   "metadata": {},
   "outputs": [],
   "source": []
  },
  {
   "cell_type": "code",
   "execution_count": null,
   "metadata": {},
   "outputs": [],
   "source": []
  },
  {
   "cell_type": "code",
   "execution_count": null,
   "metadata": {},
   "outputs": [],
   "source": []
  },
  {
   "cell_type": "code",
   "execution_count": null,
   "metadata": {},
   "outputs": [],
   "source": []
  },
  {
   "cell_type": "code",
   "execution_count": null,
   "metadata": {},
   "outputs": [],
   "source": []
  },
  {
   "cell_type": "code",
   "execution_count": null,
   "metadata": {},
   "outputs": [],
   "source": []
  },
  {
   "cell_type": "code",
   "execution_count": null,
   "metadata": {},
   "outputs": [],
   "source": []
  },
  {
   "cell_type": "code",
   "execution_count": null,
   "metadata": {},
   "outputs": [],
   "source": []
  },
  {
   "cell_type": "code",
   "execution_count": null,
   "metadata": {},
   "outputs": [],
   "source": []
  },
  {
   "cell_type": "code",
   "execution_count": 21,
   "metadata": {
    "scrolled": false
   },
   "outputs": [],
   "source": [
    "model=tf.keras.Sequential()\n",
    "model.add(tf.keras.layers.Conv2D(64,(3,3),activation='relu',input_shape=(64,64,3),padding='same'))\n",
    "model.add(tf.keras.layers.MaxPool2D((2,2)))\n",
    "model.add(tf.keras.layers.Flatten())\n",
    "model.add(tf.keras.layers.Dense(512,activation='relu'))\n",
    "model.add(tf.keras.layers.Dropout(0.1))\n",
    "model.add(tf.keras.layers.Dense(256,activation='relu'))\n",
    "model.add(tf.keras.layers.Dense(128,activation='relu'))\n",
    "model.add(tf.keras.layers.Dense(1,activation='linear'))\n",
    "model.compile(optimizer='adam',\n",
    "              loss=tf.keras.losses.MeanSquaredError(),\n",
    "              metrics=[tf.keras.metrics.RootMeanSquaredError()])"
   ]
  },
  {
   "cell_type": "code",
   "execution_count": 23,
   "metadata": {},
   "outputs": [
    {
     "name": "stdout",
     "output_type": "stream",
     "text": [
      "Epoch 1/10\n",
      "233/233 [==============================] - 125s 535ms/step - loss: 438.2681 - root_mean_squared_error: 20.9349\n",
      "Epoch 2/10\n",
      "233/233 [==============================] - 119s 512ms/step - loss: 435.3079 - root_mean_squared_error: 20.8640\n",
      "Epoch 3/10\n",
      "233/233 [==============================] - 118s 506ms/step - loss: 429.2565 - root_mean_squared_error: 20.7185\n",
      "Epoch 4/10\n",
      "233/233 [==============================] - 115s 495ms/step - loss: 430.1349 - root_mean_squared_error: 20.7397\n",
      "Epoch 5/10\n",
      "233/233 [==============================] - 118s 505ms/step - loss: 429.7290 - root_mean_squared_error: 20.7299\n",
      "Epoch 6/10\n",
      "233/233 [==============================] - 118s 509ms/step - loss: 431.8163 - root_mean_squared_error: 20.7802\n",
      "Epoch 7/10\n",
      "233/233 [==============================] - 121s 518ms/step - loss: 433.9294 - root_mean_squared_error: 20.8310\n",
      "Epoch 8/10\n",
      "233/233 [==============================] - 118s 506ms/step - loss: 426.4255 - root_mean_squared_error: 20.6501\n",
      "Epoch 9/10\n",
      "233/233 [==============================] - 126s 540ms/step - loss: 431.8935 - root_mean_squared_error: 20.7820\n",
      "Epoch 10/10\n",
      "233/233 [==============================] - 123s 526ms/step - loss: 425.1392 - root_mean_squared_error: 20.6189\n"
     ]
    },
    {
     "data": {
      "text/plain": [
       "<tensorflow.python.keras.callbacks.History at 0x1994116b460>"
      ]
     },
     "execution_count": 23,
     "metadata": {},
     "output_type": "execute_result"
    }
   ],
   "source": [
    "model.fit(X_train,y_train,epochs=10)"
   ]
  },
  {
   "cell_type": "code",
   "execution_count": 24,
   "metadata": {},
   "outputs": [
    {
     "name": "stdout",
     "output_type": "stream",
     "text": [
      "233/233 [==============================] - 25s 108ms/step - loss: 443.0788 - root_mean_squared_error: 21.0494\n"
     ]
    },
    {
     "data": {
      "text/plain": [
       "[443.07879638671875, 21.049436569213867]"
      ]
     },
     "execution_count": 24,
     "metadata": {},
     "output_type": "execute_result"
    }
   ],
   "source": [
    "model_results_train = model.evaluate(X_train, y_train)\n",
    "model_results_train"
   ]
  },
  {
   "cell_type": "code",
   "execution_count": 25,
   "metadata": {},
   "outputs": [
    {
     "name": "stdout",
     "output_type": "stream",
     "text": [
      "78/78 [==============================] - 9s 121ms/step - loss: 471.4400 - root_mean_squared_error: 21.7127\n"
     ]
    },
    {
     "data": {
      "text/plain": [
       "[471.4399719238281, 21.712669372558594]"
      ]
     },
     "execution_count": 25,
     "metadata": {},
     "output_type": "execute_result"
    }
   ],
   "source": [
    "model_results_test = model.evaluate(X_test, y_test)\n",
    "model_results_test"
   ]
  },
  {
   "cell_type": "code",
   "execution_count": 77,
   "metadata": {},
   "outputs": [
    {
     "data": {
      "text/plain": [
       "array([[33.442947],\n",
       "       [33.216103],\n",
       "       [32.94802 ],\n",
       "       [33.19907 ],\n",
       "       [32.68118 ],\n",
       "       [32.85116 ],\n",
       "       [32.797844]], dtype=float32)"
      ]
     },
     "execution_count": 77,
     "metadata": {},
     "output_type": "execute_result"
    }
   ],
   "source": [
    "model.predict(Angus)"
   ]
  },
  {
   "cell_type": "code",
   "execution_count": 85,
   "metadata": {},
   "outputs": [
    {
     "name": "stdout",
     "output_type": "stream",
     "text": [
      "Epoch 1/5\n",
      "233/233 [==============================] - 551s 2s/step - loss: 635.7822 - root_mean_squared_error: 25.2147\n",
      "Epoch 2/5\n",
      "233/233 [==============================] - 568s 2s/step - loss: 556.9897 - root_mean_squared_error: 23.6006\n",
      "Epoch 3/5\n",
      "233/233 [==============================] - 555s 2s/step - loss: 506.2378 - root_mean_squared_error: 22.4997\n",
      "Epoch 4/5\n",
      "233/233 [==============================] - 563s 2s/step - loss: 465.9215 - root_mean_squared_error: 21.5852\n",
      "Epoch 5/5\n",
      "233/233 [==============================] - 548s 2s/step - loss: 443.7258 - root_mean_squared_error: 21.0648\n"
     ]
    },
    {
     "data": {
      "text/plain": [
       "<tensorflow.python.keras.callbacks.History at 0x199149e39a0>"
      ]
     },
     "execution_count": 85,
     "metadata": {},
     "output_type": "execute_result"
    }
   ],
   "source": [
    "model2 = tf.keras.Sequential([    \n",
    "            keras.Input(shape=(64,64,3)),\n",
    "            keras.layers.Conv2D(filters = 16, kernel_size=[5,5], activation = 'relu'),\n",
    "            keras.layers.BatchNormalization(),\n",
    "            keras.layers.Conv2D(filters = 32, kernel_size=[5,5], activation = 'relu'),\n",
    "            keras.layers.BatchNormalization(),\n",
    "            keras.layers.Dropout(0.25),\n",
    "            keras.layers.Conv2D(filters = 64, kernel_size=[3,3],  activation='relu'),\n",
    "            tf.keras.layers.BatchNormalization(),\n",
    "            tf.keras.layers.Dropout(0.25),\n",
    "            tf.keras.layers.Conv2D(filters = 128, kernel_size = (3,3),  activation = 'relu'),\n",
    "            tf.keras.layers.BatchNormalization(),\n",
    "            tf.keras.layers.MaxPooling2D(pool_size=(2, 2)),\n",
    "            tf.keras.layers.Conv2D(filters = 64, kernel_size = (3,3),activation = 'relu'),\n",
    "            tf.keras.layers.BatchNormalization(),\n",
    "            tf.keras.layers.Dropout(0.25),\n",
    "            tf.keras.layers.Flatten(),\n",
    "            tf.keras.layers.Dense(512, activation = \"relu\"),\n",
    "            tf.keras.layers.Dense(128, activation = \"relu\"),\n",
    "            tf.keras.layers.Dense(64, activation = \"relu\"),\n",
    "            tf.keras.layers.Dropout(0.5),\n",
    "            tf.keras.layers.Dense(1)])\n",
    "    \n",
    "model2.compile(optimizer='adam',\n",
    "              loss=tf.keras.losses.MeanSquaredError(),\n",
    "              metrics=[tf.keras.metrics.RootMeanSquaredError()])\n",
    "\n",
    "model2.fit(X_train, y_train, epochs=5)"
   ]
  },
  {
   "cell_type": "code",
   "execution_count": null,
   "metadata": {},
   "outputs": [],
   "source": []
  }
 ],
 "metadata": {
  "kernelspec": {
   "display_name": "Python (learn-env)",
   "language": "python",
   "name": "learn-env"
  },
  "language_info": {
   "codemirror_mode": {
    "name": "ipython",
    "version": 3
   },
   "file_extension": ".py",
   "mimetype": "text/x-python",
   "name": "python",
   "nbconvert_exporter": "python",
   "pygments_lexer": "ipython3",
   "version": "3.8.5"
  }
 },
 "nbformat": 4,
 "nbformat_minor": 4
}
